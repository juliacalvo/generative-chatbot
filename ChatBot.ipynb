{
 "cells": [
  {
   "attachments": {},
   "cell_type": "markdown",
   "metadata": {},
   "source": [
    "### 1. Install - Import Libraries"
   ]
  },
  {
   "attachments": {},
   "cell_type": "markdown",
   "metadata": {},
   "source": [
    "Install required python libraries."
   ]
  },
  {
   "cell_type": "code",
   "execution_count": null,
   "metadata": {},
   "outputs": [],
   "source": [
    "#!pip install -U pandas\n",
    "#!pip install -U numpy\n",
    "#!pip install -U torch\n",
    "#!pip install -U pandas\n",
    "#!pip install -U matplotlib\n",
    "#!pip install -U datatile\n",
    "#!pip install -U seaborn"
   ]
  },
  {
   "attachments": {},
   "cell_type": "markdown",
   "metadata": {},
   "source": [
    "Import python libraries."
   ]
  },
  {
   "cell_type": "code",
   "execution_count": 2,
   "metadata": {},
   "outputs": [],
   "source": [
    "from __future__ import absolute_import\n",
    "from __future__ import division\n",
    "from __future__ import print_function\n",
    "from __future__ import unicode_literals\n",
    "\n",
    "import pandas as pd\n",
    "import numpy as np\n",
    "\n",
    "import torch\n",
    "import torch.nn as nn\n",
    "import torch.optim as optim\n",
    "from torch.jit import script, trace\n",
    "import torch.nn.functional as F\n",
    "import csv\n",
    "import random\n",
    "import re\n",
    "import os\n",
    "import unicodedata\n",
    "import codecs\n",
    "from io import open\n",
    "import itertools\n",
    "import math\n",
    "\n",
    "from datatile.summary.df import DataFrameSummary\n",
    "import seaborn as sns\n",
    "import matplotlib.pyplot as plt\n",
    "%matplotlib inline"
   ]
  },
  {
   "attachments": {},
   "cell_type": "markdown",
   "metadata": {},
   "source": [
    "Set pytorch device to GPU cuda if present, otherwise set to CPU."
   ]
  },
  {
   "cell_type": "code",
   "execution_count": 3,
   "metadata": {},
   "outputs": [],
   "source": [
    "USE_CUDA = torch.cuda.is_available()\n",
    "device = torch.device(\"cuda\" if USE_CUDA else \"cpu\")"
   ]
  },
  {
   "attachments": {},
   "cell_type": "markdown",
   "metadata": {},
   "source": [
    "### 2. Import - Review Data"
   ]
  },
  {
   "attachments": {},
   "cell_type": "markdown",
   "metadata": {},
   "source": [
    "#### 2.1 Download corpus and set variables"
   ]
  },
  {
   "attachments": {},
   "cell_type": "markdown",
   "metadata": {},
   "source": [
    "Download corpus from: https://www.kaggle.com/datasets/rtatman/ubuntu-dialogue-corpus/download?datasetVersionNumber=2 and expand compressed archive in to the notebook's root folder."
   ]
  },
  {
   "attachments": {},
   "cell_type": "markdown",
   "metadata": {},
   "source": [
    "Save variables for data folder, corpus name, and print first 10 lines to review data."
   ]
  },
  {
   "cell_type": "code",
   "execution_count": 5,
   "metadata": {},
   "outputs": [
    {
     "name": "stdout",
     "output_type": "stream",
     "text": [
      "b'folder,dialogueID,date,from,to,text\\n'\n",
      "b'3,126125.tsv,2008-04-23T14:55:00.000Z,bad_image,,\"Hello folks, please help me a bit with the following sentence: \\'Order here your personal photos or videos.\\' - I think the only allowed version is \\'Order your personal videos or photos here.\\', but I\\'m not sure, are you?\"\\n'\n",
      "b'3,126125.tsv,2008-04-23T14:56:00.000Z,bad_image,,\"Did I choose a bad channel? I ask because you seem to be dumb like windows user\"\\n'\n",
      "b'3,126125.tsv,2008-04-23T14:57:00.000Z,lordleemo,bad_image,\"the second sentence is better english   and we are not dumb\"\\n'\n",
      "b'3,64545.tsv,2009-08-01T06:22:00.000Z,mechtech,,\"Sock Puppe?t\"\\n'\n",
      "b'3,64545.tsv,2009-08-01T06:22:00.000Z,mechtech,,\"WTF?\"\\n'\n",
      "b'3,64545.tsv,2009-08-01T06:22:00.000Z,richardcavell,mechtech,\"it\\'s a wikipedia term.  There is Prodigy, PRDIGY and prgidy and they\\'re all the same guy\"\\n'\n",
      "b'3,98758.tsv,2009-05-20T07:58:00.000Z,C-00000100,Severity1,\"what is bartek trying to do?\"\\n'\n",
      "b'3,98758.tsv,2009-05-20T08:01:00.000Z,C-00000100,Severity1,\"is he trying to play online video?\"\\n'\n",
      "b'3,98758.tsv,2009-05-20T08:04:00.000Z,C-00000100,Severity1,\"bartek go here, if this doesn\\'t play then it gives you a link to get it... http://www.milkandcookies.com/link/45466/detail/\"\\n'\n"
     ]
    }
   ],
   "source": [
    "data = \"./archive/\" # data root folder\n",
    "corpus_name = \"Ubuntu-dialogue-corpus/\" # corpus subfolder\n",
    "corpus = os.path.join(data, corpus_name) # join\n",
    "raw_data = \"dialogueText.csv\" # Existing raw data file\n",
    "formatted_data = \"formatted_dialogue_lines.txt\" # Will be creaated later on\n",
    "\n",
    "# print first 10 lines\n",
    "def printLines(file, n=10):\n",
    "    with open(file, 'rb') as datafile:\n",
    "        lines = datafile.readlines()\n",
    "    for line in lines[:n]:\n",
    "        print(line)\n",
    "\n",
    "printLines(os.path.join(corpus, raw_data))"
   ]
  },
  {
   "attachments": {},
   "cell_type": "markdown",
   "metadata": {},
   "source": [
    "#### 2.2 Load data - initial review and clean up"
   ]
  },
  {
   "attachments": {},
   "cell_type": "markdown",
   "metadata": {},
   "source": [
    "Load *'dialogueText.csv'* to pandas series object and print first 10 lines for review."
   ]
  },
  {
   "cell_type": "code",
   "execution_count": 6,
   "metadata": {},
   "outputs": [
    {
     "data": {
      "text/html": [
       "<div>\n",
       "<style scoped>\n",
       "    .dataframe tbody tr th:only-of-type {\n",
       "        vertical-align: middle;\n",
       "    }\n",
       "\n",
       "    .dataframe tbody tr th {\n",
       "        vertical-align: top;\n",
       "    }\n",
       "\n",
       "    .dataframe thead th {\n",
       "        text-align: right;\n",
       "    }\n",
       "</style>\n",
       "<table border=\"1\" class=\"dataframe\">\n",
       "  <thead>\n",
       "    <tr style=\"text-align: right;\">\n",
       "      <th></th>\n",
       "      <th>folder</th>\n",
       "      <th>dialogueID</th>\n",
       "      <th>date</th>\n",
       "      <th>from</th>\n",
       "      <th>to</th>\n",
       "      <th>text</th>\n",
       "    </tr>\n",
       "  </thead>\n",
       "  <tbody>\n",
       "    <tr>\n",
       "      <th>0</th>\n",
       "      <td>3</td>\n",
       "      <td>126125.tsv</td>\n",
       "      <td>2008-04-23T14:55:00.000Z</td>\n",
       "      <td>bad_image</td>\n",
       "      <td>NaN</td>\n",
       "      <td>Hello folks, please help me a bit with the fol...</td>\n",
       "    </tr>\n",
       "    <tr>\n",
       "      <th>1</th>\n",
       "      <td>3</td>\n",
       "      <td>126125.tsv</td>\n",
       "      <td>2008-04-23T14:56:00.000Z</td>\n",
       "      <td>bad_image</td>\n",
       "      <td>NaN</td>\n",
       "      <td>Did I choose a bad channel? I ask because you ...</td>\n",
       "    </tr>\n",
       "    <tr>\n",
       "      <th>2</th>\n",
       "      <td>3</td>\n",
       "      <td>126125.tsv</td>\n",
       "      <td>2008-04-23T14:57:00.000Z</td>\n",
       "      <td>lordleemo</td>\n",
       "      <td>bad_image</td>\n",
       "      <td>the second sentence is better english   and we...</td>\n",
       "    </tr>\n",
       "    <tr>\n",
       "      <th>3</th>\n",
       "      <td>3</td>\n",
       "      <td>64545.tsv</td>\n",
       "      <td>2009-08-01T06:22:00.000Z</td>\n",
       "      <td>mechtech</td>\n",
       "      <td>NaN</td>\n",
       "      <td>Sock Puppe?t</td>\n",
       "    </tr>\n",
       "    <tr>\n",
       "      <th>4</th>\n",
       "      <td>3</td>\n",
       "      <td>64545.tsv</td>\n",
       "      <td>2009-08-01T06:22:00.000Z</td>\n",
       "      <td>mechtech</td>\n",
       "      <td>NaN</td>\n",
       "      <td>WTF?</td>\n",
       "    </tr>\n",
       "    <tr>\n",
       "      <th>5</th>\n",
       "      <td>3</td>\n",
       "      <td>64545.tsv</td>\n",
       "      <td>2009-08-01T06:22:00.000Z</td>\n",
       "      <td>richardcavell</td>\n",
       "      <td>mechtech</td>\n",
       "      <td>it's a wikipedia term.  There is Prodigy, PRDI...</td>\n",
       "    </tr>\n",
       "    <tr>\n",
       "      <th>6</th>\n",
       "      <td>3</td>\n",
       "      <td>98758.tsv</td>\n",
       "      <td>2009-05-20T07:58:00.000Z</td>\n",
       "      <td>C-00000100</td>\n",
       "      <td>Severity1</td>\n",
       "      <td>what is bartek trying to do?</td>\n",
       "    </tr>\n",
       "    <tr>\n",
       "      <th>7</th>\n",
       "      <td>3</td>\n",
       "      <td>98758.tsv</td>\n",
       "      <td>2009-05-20T08:01:00.000Z</td>\n",
       "      <td>C-00000100</td>\n",
       "      <td>Severity1</td>\n",
       "      <td>is he trying to play online video?</td>\n",
       "    </tr>\n",
       "    <tr>\n",
       "      <th>8</th>\n",
       "      <td>3</td>\n",
       "      <td>98758.tsv</td>\n",
       "      <td>2009-05-20T08:04:00.000Z</td>\n",
       "      <td>C-00000100</td>\n",
       "      <td>Severity1</td>\n",
       "      <td>bartek go here, if this doesn't play then it g...</td>\n",
       "    </tr>\n",
       "    <tr>\n",
       "      <th>9</th>\n",
       "      <td>3</td>\n",
       "      <td>86303.tsv</td>\n",
       "      <td>2010-08-24T19:56:00.000Z</td>\n",
       "      <td>pozic</td>\n",
       "      <td>Somelauw</td>\n",
       "      <td>the algorithms from aptitude were ported to ap...</td>\n",
       "    </tr>\n",
       "  </tbody>\n",
       "</table>\n",
       "</div>"
      ],
      "text/plain": [
       "   folder  dialogueID                      date           from         to  \\\n",
       "0       3  126125.tsv  2008-04-23T14:55:00.000Z      bad_image        NaN   \n",
       "1       3  126125.tsv  2008-04-23T14:56:00.000Z      bad_image        NaN   \n",
       "2       3  126125.tsv  2008-04-23T14:57:00.000Z      lordleemo  bad_image   \n",
       "3       3   64545.tsv  2009-08-01T06:22:00.000Z       mechtech        NaN   \n",
       "4       3   64545.tsv  2009-08-01T06:22:00.000Z       mechtech        NaN   \n",
       "5       3   64545.tsv  2009-08-01T06:22:00.000Z  richardcavell   mechtech   \n",
       "6       3   98758.tsv  2009-05-20T07:58:00.000Z     C-00000100  Severity1   \n",
       "7       3   98758.tsv  2009-05-20T08:01:00.000Z     C-00000100  Severity1   \n",
       "8       3   98758.tsv  2009-05-20T08:04:00.000Z     C-00000100  Severity1   \n",
       "9       3   86303.tsv  2010-08-24T19:56:00.000Z          pozic   Somelauw   \n",
       "\n",
       "                                                text  \n",
       "0  Hello folks, please help me a bit with the fol...  \n",
       "1  Did I choose a bad channel? I ask because you ...  \n",
       "2  the second sentence is better english   and we...  \n",
       "3                                       Sock Puppe?t  \n",
       "4                                               WTF?  \n",
       "5  it's a wikipedia term.  There is Prodigy, PRDI...  \n",
       "6                       what is bartek trying to do?  \n",
       "7                 is he trying to play online video?  \n",
       "8  bartek go here, if this doesn't play then it g...  \n",
       "9  the algorithms from aptitude were ported to ap...  "
      ]
     },
     "execution_count": 6,
     "metadata": {},
     "output_type": "execute_result"
    }
   ],
   "source": [
    "df = pd.read_csv(corpus + raw_data)\n",
    "df.head(10)"
   ]
  },
  {
   "attachments": {},
   "cell_type": "markdown",
   "metadata": {},
   "source": [
    "Drop unused columns to save processing time and remove *'.tsv'* from **dialogueID**.\n",
    "Print first 10 lines for review."
   ]
  },
  {
   "cell_type": "code",
   "execution_count": 7,
   "metadata": {},
   "outputs": [
    {
     "data": {
      "text/html": [
       "<div>\n",
       "<style scoped>\n",
       "    .dataframe tbody tr th:only-of-type {\n",
       "        vertical-align: middle;\n",
       "    }\n",
       "\n",
       "    .dataframe tbody tr th {\n",
       "        vertical-align: top;\n",
       "    }\n",
       "\n",
       "    .dataframe thead th {\n",
       "        text-align: right;\n",
       "    }\n",
       "</style>\n",
       "<table border=\"1\" class=\"dataframe\">\n",
       "  <thead>\n",
       "    <tr style=\"text-align: right;\">\n",
       "      <th></th>\n",
       "      <th>dialogueID</th>\n",
       "      <th>from</th>\n",
       "      <th>to</th>\n",
       "      <th>text</th>\n",
       "    </tr>\n",
       "  </thead>\n",
       "  <tbody>\n",
       "    <tr>\n",
       "      <th>0</th>\n",
       "      <td>126125</td>\n",
       "      <td>bad_image</td>\n",
       "      <td>NaN</td>\n",
       "      <td>Hello folks, please help me a bit with the fol...</td>\n",
       "    </tr>\n",
       "    <tr>\n",
       "      <th>1</th>\n",
       "      <td>126125</td>\n",
       "      <td>bad_image</td>\n",
       "      <td>NaN</td>\n",
       "      <td>Did I choose a bad channel? I ask because you ...</td>\n",
       "    </tr>\n",
       "    <tr>\n",
       "      <th>2</th>\n",
       "      <td>126125</td>\n",
       "      <td>lordleemo</td>\n",
       "      <td>bad_image</td>\n",
       "      <td>the second sentence is better english   and we...</td>\n",
       "    </tr>\n",
       "    <tr>\n",
       "      <th>3</th>\n",
       "      <td>64545</td>\n",
       "      <td>mechtech</td>\n",
       "      <td>NaN</td>\n",
       "      <td>Sock Puppe?t</td>\n",
       "    </tr>\n",
       "    <tr>\n",
       "      <th>4</th>\n",
       "      <td>64545</td>\n",
       "      <td>mechtech</td>\n",
       "      <td>NaN</td>\n",
       "      <td>WTF?</td>\n",
       "    </tr>\n",
       "    <tr>\n",
       "      <th>5</th>\n",
       "      <td>64545</td>\n",
       "      <td>richardcavell</td>\n",
       "      <td>mechtech</td>\n",
       "      <td>it's a wikipedia term.  There is Prodigy, PRDI...</td>\n",
       "    </tr>\n",
       "    <tr>\n",
       "      <th>6</th>\n",
       "      <td>98758</td>\n",
       "      <td>C-00000100</td>\n",
       "      <td>Severity1</td>\n",
       "      <td>what is bartek trying to do?</td>\n",
       "    </tr>\n",
       "    <tr>\n",
       "      <th>7</th>\n",
       "      <td>98758</td>\n",
       "      <td>C-00000100</td>\n",
       "      <td>Severity1</td>\n",
       "      <td>is he trying to play online video?</td>\n",
       "    </tr>\n",
       "    <tr>\n",
       "      <th>8</th>\n",
       "      <td>98758</td>\n",
       "      <td>C-00000100</td>\n",
       "      <td>Severity1</td>\n",
       "      <td>bartek go here, if this doesn't play then it g...</td>\n",
       "    </tr>\n",
       "    <tr>\n",
       "      <th>9</th>\n",
       "      <td>86303</td>\n",
       "      <td>pozic</td>\n",
       "      <td>Somelauw</td>\n",
       "      <td>the algorithms from aptitude were ported to ap...</td>\n",
       "    </tr>\n",
       "  </tbody>\n",
       "</table>\n",
       "</div>"
      ],
      "text/plain": [
       "  dialogueID           from         to  \\\n",
       "0     126125      bad_image        NaN   \n",
       "1     126125      bad_image        NaN   \n",
       "2     126125      lordleemo  bad_image   \n",
       "3      64545       mechtech        NaN   \n",
       "4      64545       mechtech        NaN   \n",
       "5      64545  richardcavell   mechtech   \n",
       "6      98758     C-00000100  Severity1   \n",
       "7      98758     C-00000100  Severity1   \n",
       "8      98758     C-00000100  Severity1   \n",
       "9      86303          pozic   Somelauw   \n",
       "\n",
       "                                                text  \n",
       "0  Hello folks, please help me a bit with the fol...  \n",
       "1  Did I choose a bad channel? I ask because you ...  \n",
       "2  the second sentence is better english   and we...  \n",
       "3                                       Sock Puppe?t  \n",
       "4                                               WTF?  \n",
       "5  it's a wikipedia term.  There is Prodigy, PRDI...  \n",
       "6                       what is bartek trying to do?  \n",
       "7                 is he trying to play online video?  \n",
       "8  bartek go here, if this doesn't play then it g...  \n",
       "9  the algorithms from aptitude were ported to ap...  "
      ]
     },
     "execution_count": 7,
     "metadata": {},
     "output_type": "execute_result"
    }
   ],
   "source": [
    "df.drop(['folder', 'date'], axis=1, inplace=True)\n",
    "df['dialogueID'] = df['dialogueID'].str.replace(r'.tsv', '', regex=True)\n",
    "df.head(10)"
   ]
  },
  {
   "attachments": {},
   "cell_type": "markdown",
   "metadata": {},
   "source": [
    "Use DataFrameSummary method to review data column statistics."
   ]
  },
  {
   "cell_type": "code",
   "execution_count": 8,
   "metadata": {},
   "outputs": [
    {
     "name": "stderr",
     "output_type": "stream",
     "text": [
      "/opt/anaconda3/envs/uninlp/lib/python3.8/site-packages/datatile/summary/df.py:39: FutureWarning: The default value of numeric_only in DataFrame.corr is deprecated. In a future version, it will default to False. Select only valid columns or specify the value of numeric_only to silence this warning.\n",
      "  self.corr = df.corr()\n"
     ]
    },
    {
     "data": {
      "text/html": [
       "<div>\n",
       "<style scoped>\n",
       "    .dataframe tbody tr th:only-of-type {\n",
       "        vertical-align: middle;\n",
       "    }\n",
       "\n",
       "    .dataframe tbody tr th {\n",
       "        vertical-align: top;\n",
       "    }\n",
       "\n",
       "    .dataframe thead th {\n",
       "        text-align: right;\n",
       "    }\n",
       "</style>\n",
       "<table border=\"1\" class=\"dataframe\">\n",
       "  <thead>\n",
       "    <tr style=\"text-align: right;\">\n",
       "      <th></th>\n",
       "      <th>dialogueID</th>\n",
       "      <th>from</th>\n",
       "      <th>to</th>\n",
       "      <th>text</th>\n",
       "    </tr>\n",
       "  </thead>\n",
       "  <tbody>\n",
       "    <tr>\n",
       "      <th>counts</th>\n",
       "      <td>1038324</td>\n",
       "      <td>1038311</td>\n",
       "      <td>566035</td>\n",
       "      <td>1038237</td>\n",
       "    </tr>\n",
       "    <tr>\n",
       "      <th>uniques</th>\n",
       "      <td>346108</td>\n",
       "      <td>164083</td>\n",
       "      <td>149488</td>\n",
       "      <td>863907</td>\n",
       "    </tr>\n",
       "    <tr>\n",
       "      <th>missing</th>\n",
       "      <td>0</td>\n",
       "      <td>13</td>\n",
       "      <td>472289</td>\n",
       "      <td>87</td>\n",
       "    </tr>\n",
       "    <tr>\n",
       "      <th>missing_perc</th>\n",
       "      <td>0%</td>\n",
       "      <td>0%</td>\n",
       "      <td>45.49%</td>\n",
       "      <td>0.01%</td>\n",
       "    </tr>\n",
       "    <tr>\n",
       "      <th>types</th>\n",
       "      <td>categorical</td>\n",
       "      <td>categorical</td>\n",
       "      <td>categorical</td>\n",
       "      <td>categorical</td>\n",
       "    </tr>\n",
       "  </tbody>\n",
       "</table>\n",
       "</div>"
      ],
      "text/plain": [
       "               dialogueID         from           to         text\n",
       "counts            1038324      1038311       566035      1038237\n",
       "uniques            346108       164083       149488       863907\n",
       "missing                 0           13       472289           87\n",
       "missing_perc           0%           0%       45.49%        0.01%\n",
       "types         categorical  categorical  categorical  categorical"
      ]
     },
     "execution_count": 8,
     "metadata": {},
     "output_type": "execute_result"
    }
   ],
   "source": [
    "DataFrameSummary(df).columns_stats"
   ]
  },
  {
   "attachments": {},
   "cell_type": "markdown",
   "metadata": {},
   "source": [
    "Drop null values from 'text' and 'from' columns. The 'to' column has a lot of missing values but this is expected since all first comments are adressed to null. Review column statistics again."
   ]
  },
  {
   "cell_type": "code",
   "execution_count": 9,
   "metadata": {},
   "outputs": [
    {
     "name": "stderr",
     "output_type": "stream",
     "text": [
      "/opt/anaconda3/envs/uninlp/lib/python3.8/site-packages/datatile/summary/df.py:39: FutureWarning: The default value of numeric_only in DataFrame.corr is deprecated. In a future version, it will default to False. Select only valid columns or specify the value of numeric_only to silence this warning.\n",
      "  self.corr = df.corr()\n"
     ]
    },
    {
     "data": {
      "text/html": [
       "<div>\n",
       "<style scoped>\n",
       "    .dataframe tbody tr th:only-of-type {\n",
       "        vertical-align: middle;\n",
       "    }\n",
       "\n",
       "    .dataframe tbody tr th {\n",
       "        vertical-align: top;\n",
       "    }\n",
       "\n",
       "    .dataframe thead th {\n",
       "        text-align: right;\n",
       "    }\n",
       "</style>\n",
       "<table border=\"1\" class=\"dataframe\">\n",
       "  <thead>\n",
       "    <tr style=\"text-align: right;\">\n",
       "      <th></th>\n",
       "      <th>dialogueID</th>\n",
       "      <th>from</th>\n",
       "      <th>to</th>\n",
       "      <th>text</th>\n",
       "    </tr>\n",
       "  </thead>\n",
       "  <tbody>\n",
       "    <tr>\n",
       "      <th>counts</th>\n",
       "      <td>1038224</td>\n",
       "      <td>1038224</td>\n",
       "      <td>566029</td>\n",
       "      <td>1038224</td>\n",
       "    </tr>\n",
       "    <tr>\n",
       "      <th>uniques</th>\n",
       "      <td>346108</td>\n",
       "      <td>164077</td>\n",
       "      <td>149488</td>\n",
       "      <td>863895</td>\n",
       "    </tr>\n",
       "    <tr>\n",
       "      <th>missing</th>\n",
       "      <td>0</td>\n",
       "      <td>0</td>\n",
       "      <td>472195</td>\n",
       "      <td>0</td>\n",
       "    </tr>\n",
       "    <tr>\n",
       "      <th>missing_perc</th>\n",
       "      <td>0%</td>\n",
       "      <td>0%</td>\n",
       "      <td>45.48%</td>\n",
       "      <td>0%</td>\n",
       "    </tr>\n",
       "    <tr>\n",
       "      <th>types</th>\n",
       "      <td>categorical</td>\n",
       "      <td>categorical</td>\n",
       "      <td>categorical</td>\n",
       "      <td>categorical</td>\n",
       "    </tr>\n",
       "  </tbody>\n",
       "</table>\n",
       "</div>"
      ],
      "text/plain": [
       "               dialogueID         from           to         text\n",
       "counts            1038224      1038224       566029      1038224\n",
       "uniques            346108       164077       149488       863895\n",
       "missing                 0            0       472195            0\n",
       "missing_perc           0%           0%       45.48%           0%\n",
       "types         categorical  categorical  categorical  categorical"
      ]
     },
     "execution_count": 9,
     "metadata": {},
     "output_type": "execute_result"
    }
   ],
   "source": [
    "df.dropna(subset=['text', 'from'], inplace=True)\n",
    "DataFrameSummary(df).columns_stats"
   ]
  },
  {
   "attachments": {},
   "cell_type": "markdown",
   "metadata": {},
   "source": [
    "### 3. Data Transformation & Analysis"
   ]
  },
  {
   "attachments": {},
   "cell_type": "markdown",
   "metadata": {},
   "source": [
    "#### 3.1 Transform data to Input Output pairs"
   ]
  },
  {
   "attachments": {},
   "cell_type": "markdown",
   "metadata": {},
   "source": [
    "Convert dataframe to dictionary using dataframe's index as key and row values as nested dictionary. Print example."
   ]
  },
  {
   "cell_type": "code",
   "execution_count": 10,
   "metadata": {},
   "outputs": [
    {
     "data": {
      "text/plain": [
       "{'dialogueID': '126125',\n",
       " 'from': 'bad_image',\n",
       " 'to': nan,\n",
       " 'text': \"Hello folks, please help me a bit with the following sentence: 'Order here your personal photos or videos.' - I think the only allowed version is 'Order your personal videos or photos here.', but I'm not sure, are you?\"}"
      ]
     },
     "execution_count": 10,
     "metadata": {},
     "output_type": "execute_result"
    }
   ],
   "source": [
    "#Convert dataframe to dictionary using dataframes index as key and row values as nested dictionary.\n",
    "conv_dict = df.to_dict('index')\n",
    "\n",
    "# print example\n",
    "conv_dict[0]"
   ]
  },
  {
   "attachments": {},
   "cell_type": "markdown",
   "metadata": {},
   "source": [
    "Define helper functions for combining consecutive text from the same person to one input and for extracting input-ouput pairs from conversations."
   ]
  },
  {
   "cell_type": "code",
   "execution_count": 11,
   "metadata": {},
   "outputs": [],
   "source": [
    "# Combine consecutive text from same person to one sentence\n",
    "def combine_text(dictionary):\n",
    "    for key in reversed(dictionary):\n",
    "        if key+1 in dictionary and dictionary[key]['from'] == dictionary[key+1]['from']:\n",
    "            dictionary[key+1]['text'] = str(dictionary[key]['text']) + \" \" + str(dictionary[key+1]['text'])\n",
    "            dictionary[key]['from'] = \"del\"  \n",
    "\n",
    "    for key, value in dict(dictionary).items():\n",
    "        if value['from'] == \"del\":\n",
    "                del dictionary[key] \n",
    "                \n",
    "    return dictionary   \n",
    "\n",
    "# Extracts input output pairs from conversations\n",
    "def extract_pairs(conversations):\n",
    "    qa_pairs = []\n",
    "        # Iterate over all the lines of the conversation\n",
    "    for key in conversations:\n",
    "        if key+1 in conversations and conversations[key]['dialogueID'] == conversations[key+1]['dialogueID']:\n",
    "            inputLine = str(conversations[key]['text']).strip()\n",
    "            targetLine = str(conversations[key+1]['text']).strip()\n",
    "            # Filter wrong samples (if one of the lists is empty)\n",
    "            if inputLine and targetLine:\n",
    "                qa_pairs.append([inputLine, targetLine])\n",
    "    return qa_pairs                         "
   ]
  },
  {
   "attachments": {},
   "cell_type": "markdown",
   "metadata": {},
   "source": [
    "Set deliniter and new file path, run **combine_text** and **extract_pairs** functions, and write results to *\"formatted_dialogue_lines.txt\"* file. Print 10 lines to review data."
   ]
  },
  {
   "cell_type": "code",
   "execution_count": 12,
   "metadata": {},
   "outputs": [
    {
     "name": "stdout",
     "output_type": "stream",
     "text": [
      "\n",
      "Processing corpus into lines and conversation pairs...\n",
      "\n",
      "Writing newly formatted file...\n",
      "\n",
      "Sample lines from file:\n",
      "b\"Hello folks, please help me a bit with the following sentence: 'Order here your personal photos or videos.' - I think the only allowed version is 'Order your personal videos or photos here.', but I'm not sure, are you? Did I choose a bad channel? I ask because you seem to be dumb like windows user\\tthe second sentence is better english   and we are not dumb\\n\"\n",
      "b\"Sock Puppe?t WTF?\\tit's a wikipedia term.  There is Prodigy, PRDIGY and prgidy and they're all the same guy\\n\"\n",
      "b\"is there any reason why my 'network manager' icon in my tray does not scale when the other ones get resized when i change the size of the panel?\\tprobably not a vector icon\\n\"\n",
      "b\"probably not a vector icon\\tthe other icons aren't vector icons either.\\n\"\n",
      "b\"I installed the 64bit version of ubuntu and I can't open firefox(segfault) and if I try to open nautilus nothing happens and my cpu goes 100%, what can I do??? Anyone knows why after I installed the 64bit version of ubuntu and I can't open firefox(segfault) and if I try to open nautilus nothing happens and my cpu goes 100%, what can I do???\\ti sent you a link on how to install 32 bit\\n\"\n",
      "b\"ok, anyone know how I set bios password in ubuntu already set\\tyou'd need to set that in your BIOS.\\n\"\n",
      "b\"Hello Does Ubuntu have somekind of register to configure applications and os settings? Hello Does Ubuntu have somekind of register to configure applications and os settings?\\tLinux doesn't have an equivalent to the Windows registry\\n\"\n",
      "b\"how do i generate an xorg.conf file? for intel GMAs\\t'sudo xorg -configure', I think\\n\"\n",
      "b'Where does synoptic install the programs to? Like it aint on desktop nvm\\tSynaptic installs the programs to wherever they need to be installed.  Most of them can be found in the Gnome menu, and if not there, in the Debian submenu.  All applications on your system that are recognized by Synaptic are in your Debian submenu.\\n'\n",
      "b'are there any utils that will do a repair of your laptop once in a while ? like you have advaned system optimizer in windows sort of stuff\\trepair in the sense? clean up of unused files ?\\n'\n"
     ]
    }
   ],
   "source": [
    "'''\n",
    "Apply combine text and extract pairs functions that complete data transformation\n",
    "'''\n",
    "# Set delimiter\n",
    "delimiter = '\\t'\n",
    "# Unescape the delimiter\n",
    "delimiter = str(codecs.decode(delimiter, \"unicode_escape\"))\n",
    "\n",
    "# Define path to new file\n",
    "datafile = os.path.join(corpus, formatted_data)\n",
    "\n",
    "print(\"\\nProcessing corpus into lines and conversation pairs...\")\n",
    "dictionary = combine_text(conv_dict)\n",
    "pairs = extract_pairs(dictionary)\n",
    "\n",
    "# Write new csv file\n",
    "print(\"\\nWriting newly formatted file...\")\n",
    "with open(datafile, 'w', encoding='utf-8') as outputfile:\n",
    "    writer = csv.writer(outputfile, delimiter=delimiter, lineterminator='\\n')\n",
    "    for pair in pairs:\n",
    "        writer.writerow(pair)\n",
    "\n",
    "# Print a sample of lines\n",
    "print(\"\\nSample lines from file:\")\n",
    "printLines(os.path.join(corpus, formatted_data))         "
   ]
  },
  {
   "attachments": {},
   "cell_type": "markdown",
   "metadata": {},
   "source": [
    "#### 3.2 Data Analysis"
   ]
  },
  {
   "attachments": {},
   "cell_type": "markdown",
   "metadata": {},
   "source": [
    "Load data from *\"formatted_dialogue_lines.txt\"* file to pandas object for data analysis. Set dataframe labels, and print first 10 lines."
   ]
  },
  {
   "cell_type": "code",
   "execution_count": 13,
   "metadata": {},
   "outputs": [
    {
     "data": {
      "text/html": [
       "<div>\n",
       "<style scoped>\n",
       "    .dataframe tbody tr th:only-of-type {\n",
       "        vertical-align: middle;\n",
       "    }\n",
       "\n",
       "    .dataframe tbody tr th {\n",
       "        vertical-align: top;\n",
       "    }\n",
       "\n",
       "    .dataframe thead th {\n",
       "        text-align: right;\n",
       "    }\n",
       "</style>\n",
       "<table border=\"1\" class=\"dataframe\">\n",
       "  <thead>\n",
       "    <tr style=\"text-align: right;\">\n",
       "      <th></th>\n",
       "      <th>input</th>\n",
       "      <th>output</th>\n",
       "    </tr>\n",
       "  </thead>\n",
       "  <tbody>\n",
       "    <tr>\n",
       "      <th>0</th>\n",
       "      <td>Hello folks, please help me a bit with the fol...</td>\n",
       "      <td>the second sentence is better english   and we...</td>\n",
       "    </tr>\n",
       "    <tr>\n",
       "      <th>1</th>\n",
       "      <td>Sock Puppe?t WTF?</td>\n",
       "      <td>it's a wikipedia term.  There is Prodigy, PRDI...</td>\n",
       "    </tr>\n",
       "    <tr>\n",
       "      <th>2</th>\n",
       "      <td>is there any reason why my 'network manager' i...</td>\n",
       "      <td>probably not a vector icon</td>\n",
       "    </tr>\n",
       "    <tr>\n",
       "      <th>3</th>\n",
       "      <td>probably not a vector icon</td>\n",
       "      <td>the other icons aren't vector icons either.</td>\n",
       "    </tr>\n",
       "    <tr>\n",
       "      <th>4</th>\n",
       "      <td>I installed the 64bit version of ubuntu and I ...</td>\n",
       "      <td>i sent you a link on how to install 32 bit</td>\n",
       "    </tr>\n",
       "    <tr>\n",
       "      <th>5</th>\n",
       "      <td>ok, anyone know how I set bios password in ubu...</td>\n",
       "      <td>you'd need to set that in your BIOS.</td>\n",
       "    </tr>\n",
       "    <tr>\n",
       "      <th>6</th>\n",
       "      <td>Hello Does Ubuntu have somekind of register to...</td>\n",
       "      <td>Linux doesn't have an equivalent to the Window...</td>\n",
       "    </tr>\n",
       "    <tr>\n",
       "      <th>7</th>\n",
       "      <td>how do i generate an xorg.conf file? for intel...</td>\n",
       "      <td>'sudo xorg -configure', I think</td>\n",
       "    </tr>\n",
       "    <tr>\n",
       "      <th>8</th>\n",
       "      <td>Where does synoptic install the programs to? L...</td>\n",
       "      <td>Synaptic installs the programs to wherever the...</td>\n",
       "    </tr>\n",
       "    <tr>\n",
       "      <th>9</th>\n",
       "      <td>are there any utils that will do a repair of y...</td>\n",
       "      <td>repair in the sense? clean up of unused files ?</td>\n",
       "    </tr>\n",
       "  </tbody>\n",
       "</table>\n",
       "</div>"
      ],
      "text/plain": [
       "                                               input  \\\n",
       "0  Hello folks, please help me a bit with the fol...   \n",
       "1                                  Sock Puppe?t WTF?   \n",
       "2  is there any reason why my 'network manager' i...   \n",
       "3                         probably not a vector icon   \n",
       "4  I installed the 64bit version of ubuntu and I ...   \n",
       "5  ok, anyone know how I set bios password in ubu...   \n",
       "6  Hello Does Ubuntu have somekind of register to...   \n",
       "7  how do i generate an xorg.conf file? for intel...   \n",
       "8  Where does synoptic install the programs to? L...   \n",
       "9  are there any utils that will do a repair of y...   \n",
       "\n",
       "                                              output  \n",
       "0  the second sentence is better english   and we...  \n",
       "1  it's a wikipedia term.  There is Prodigy, PRDI...  \n",
       "2                         probably not a vector icon  \n",
       "3        the other icons aren't vector icons either.  \n",
       "4         i sent you a link on how to install 32 bit  \n",
       "5               you'd need to set that in your BIOS.  \n",
       "6  Linux doesn't have an equivalent to the Window...  \n",
       "7                    'sudo xorg -configure', I think  \n",
       "8  Synaptic installs the programs to wherever the...  \n",
       "9    repair in the sense? clean up of unused files ?  "
      ]
     },
     "execution_count": 13,
     "metadata": {},
     "output_type": "execute_result"
    }
   ],
   "source": [
    "labels  = [\"input\", \"output\"]\n",
    "df = pd.read_csv(corpus + formatted_data, sep=\"\\t\", header=None, names=labels )\n",
    "df.head(10)"
   ]
  },
  {
   "attachments": {},
   "cell_type": "markdown",
   "metadata": {},
   "source": [
    "Plot input and output text length histogram. "
   ]
  },
  {
   "cell_type": "code",
   "execution_count": 23,
   "metadata": {},
   "outputs": [
    {
     "data": {
      "image/png": "[encoded data removed]",
      "text/plain": [
       "<Figure size 1200x600 with 2 Axes>"
      ]
     },
     "metadata": {},
     "output_type": "display_data"
    }
   ],
   "source": [
    "df['inputSum'] = df['input'].apply(lambda x: len(x.split(' '))) # Sum input text per row\n",
    "df['outputSum'] = df['output'].apply(lambda x: len(x.split(' ')))  # Sum output text per row\n",
    "df_sum = df[['inputSum', 'outputSum']] # set temp df\n",
    "#df_sum.plot(kind='hist', bins=range(5, 60, 1), grid=True); # plot histogram\n",
    "\n",
    "\n",
    "fig, axis = plt.subplots(1,2,figsize=(12, 6))\n",
    "df_sum.hist(ax=axis, bins=range(5, 60, 1));"
   ]
  },
  {
   "attachments": {},
   "cell_type": "markdown",
   "metadata": {},
   "source": [
    "Set maximum text length to consider."
   ]
  },
  {
   "cell_type": "code",
   "execution_count": 13,
   "metadata": {},
   "outputs": [],
   "source": [
    "MAX_LENGTH = 10  # Maximum text length to consider"
   ]
  },
  {
   "cell_type": "markdown",
   "metadata": {},
   "source": []
  },
  {
   "cell_type": "code",
   "execution_count": 14,
   "metadata": {},
   "outputs": [],
   "source": [
    "input_word_count = df['input'].str.split(expand=True).stack().value_counts(ascending=True)"
   ]
  },
  {
   "cell_type": "code",
   "execution_count": 15,
   "metadata": {},
   "outputs": [
    {
     "data": {
      "text/plain": [
       "<AxesSubplot:>"
      ]
     },
     "execution_count": 15,
     "metadata": {},
     "output_type": "execute_result"
    },
    {
     "data": {
      "image/png": "[encoded data removed]",
      "text/plain": [
       "<Figure size 640x480 with 1 Axes>"
      ]
     },
     "metadata": {},
     "output_type": "display_data"
    }
   ],
   "source": [
    "input_word_count.plot()"
   ]
  },
  {
   "attachments": {},
   "cell_type": "markdown",
   "metadata": {},
   "source": [
    "Set minimum word count threshold for trimming."
   ]
  },
  {
   "cell_type": "code",
   "execution_count": 16,
   "metadata": {},
   "outputs": [],
   "source": [
    "MIN_COUNT = 3    # Minimum word count threshold for trimming"
   ]
  },
  {
   "attachments": {},
   "cell_type": "markdown",
   "metadata": {},
   "source": [
    "### 4. Pre-Processing"
   ]
  },
  {
   "attachments": {},
   "cell_type": "markdown",
   "metadata": {},
   "source": [
    "#### 4.1 Vocabulary helper class"
   ]
  },
  {
   "attachments": {},
   "cell_type": "markdown",
   "metadata": {},
   "source": [
    "Let's now create a vocabulary and load query/response sentence pairs into memory.\n",
    "\n",
    "Remember that we are dealing with sequences of words, which do not have an implicit mapping to a discrete numerical space. A mapping must be created by mapping each unique word in the dataset to an index value.\n",
    "\n",
    "The Voc class keeps a mapping from words to indexes, a reverse mapping of indexes to words, a count of each word and a total word count. The class provides methods for adding a word to the vocabulary (addWord), adding all words in a sentence (addSentence) and trimming infrequently seen words (trim)."
   ]
  },
  {
   "cell_type": "code",
   "execution_count": 17,
   "metadata": {},
   "outputs": [],
   "source": [
    "# Default word tokens\n",
    "PAD_token = 0  # Used for padding short sentences\n",
    "SOS_token = 1  # Start-of-sentence token\n",
    "EOS_token = 2  # End-of-sentence token\n",
    "\n",
    "class Voc:\n",
    "    def __init__(self, name):\n",
    "        self.name = name\n",
    "        self.trimmed = False\n",
    "        self.word2index = {}\n",
    "        self.word2count = {}\n",
    "        self.index2word = {PAD_token: \"PAD\", SOS_token: \"SOS\", EOS_token: \"EOS\"}\n",
    "        self.num_words = 3  # Count SOS, EOS, PAD\n",
    "\n",
    "    def addSentence(self, sentence):\n",
    "        for word in sentence.split(' '):\n",
    "            self.addWord(word)\n",
    "\n",
    "    def addWord(self, word):\n",
    "        if word not in self.word2index:\n",
    "            self.word2index[word] = self.num_words\n",
    "            self.word2count[word] = 1\n",
    "            self.index2word[self.num_words] = word\n",
    "            self.num_words += 1\n",
    "        else:\n",
    "            self.word2count[word] += 1\n",
    "\n",
    "    # Remove words below a certain count threshold\n",
    "    def trim(self, min_count):\n",
    "        if self.trimmed:\n",
    "            return\n",
    "        self.trimmed = True\n",
    "\n",
    "        keep_words = []\n",
    "\n",
    "        for k, v in self.word2count.items():\n",
    "            if v >= min_count:\n",
    "                keep_words.append(k)\n",
    "\n",
    "        print('keep_words {} / {} = {:.4f}'.format(\n",
    "            len(keep_words), len(self.word2index), len(keep_words) / len(self.word2index)\n",
    "        ))\n",
    "\n",
    "        # Reinitialize dictionaries\n",
    "        self.word2index = {}\n",
    "        self.word2count = {}\n",
    "        self.index2word = {PAD_token: \"PAD\", SOS_token: \"SOS\", EOS_token: \"EOS\"}\n",
    "        self.num_words = 3 # Count default tokens\n",
    "\n",
    "        for word in keep_words:\n",
    "            self.addWord(word)\n",
    "            "
   ]
  },
  {
   "attachments": {},
   "cell_type": "markdown",
   "metadata": {},
   "source": [
    "#### 4.2 Normalisation helper functions"
   ]
  },
  {
   "attachments": {},
   "cell_type": "markdown",
   "metadata": {},
   "source": [
    "Let's  also write some functions to clean the text.\n",
    "\n",
    "1. Convert Unicode strings to ASCII using unicodeToAscii\n",
    "2. Convert all letters to lowercase and trim all non-letter characters except for basic punctuation (normalizeString)\n",
    "3. Filter out sentences with length greater than the MAX_LENGTH threshold (filterPairs) to facilitate training convergence."
   ]
  },
  {
   "cell_type": "code",
   "execution_count": 18,
   "metadata": {},
   "outputs": [],
   "source": [
    "\n",
    "\n",
    "# Turn a Unicode string to plain ASCII, thanks to\n",
    "# https://stackoverflow.com/a/518232/2809427\n",
    "def unicodeToAscii(s):\n",
    "    return ''.join(\n",
    "        c for c in unicodedata.normalize('NFD', s)\n",
    "        if unicodedata.category(c) != 'Mn'\n",
    "    )\n",
    "\n",
    "# Lowercase, trim, and remove non-letter characters\n",
    "def normalizeString(s):\n",
    "    s = unicodeToAscii(s.lower().strip())\n",
    "    s = re.sub(r'[\\?\\.\\!]+(?=[\\?\\.\\!])', '', s)\n",
    "    s = re.sub(r\"[^a-zA-Z.!?]+\", r\" \", s)\n",
    "    s = re.sub(r\"http\\S+\", \"\", s)\n",
    "    s = re.sub(r'\\w+.com\\s?','',s)\n",
    "    s = re.sub(r\"\\s+\", r\" \", s).strip()\n",
    "    return s\n",
    "\n",
    "# Read query/response pairs and return a voc object\n",
    "def readVocs(datafile, corpus_name):\n",
    "    print(\"Reading lines...\")\n",
    "    # Read the file and split into lines\n",
    "    lines = open(datafile, encoding='utf-8').\\\n",
    "        read().strip().split('\\n')\n",
    "    # Split every line into pairs and normalize\n",
    "    pairs = [[normalizeString(s) for s in l.split('\\t')] for l in lines]\n",
    "    voc = Voc(corpus_name)\n",
    "    return voc, pairs\n",
    "\n",
    "# Returns True iff both sentences in a pair 'p' are under the MAX_LENGTH threshold\n",
    "def filterPair(p, max_length):\n",
    "    # Input sequences need to preserve the last word for EOS token\n",
    "    return len(p[0].split(' ')) < max_length and len(p[1].split(' ')) < max_length\n",
    "\n",
    "# Filter pairs using filterPair condition\n",
    "def filterPairs(pairs, max_length):\n",
    "    return [pair for pair in pairs if filterPair(pair, max_length)]\n",
    "\n",
    "# Using the functions defined above, return a populated voc object and pairs list\n",
    "def loadPrepareData(corpus, corpus_name, datafile, max_length):\n",
    "    print(\"Start preparing training data ...\")\n",
    "    voc, pairs = readVocs(datafile, corpus_name)\n",
    "    print(\"Read {!s} sentence pairs\".format(len(pairs)))\n",
    "    pairs = filterPairs(pairs, max_length)\n",
    "    print(\"Trimmed to {!s} sentence pairs\".format(len(pairs)))\n",
    "    print(\"Counting words...\")\n",
    "    for pair in pairs:\n",
    "        voc.addSentence(pair[0])\n",
    "        voc.addSentence(pair[1])\n",
    "    print(\"Counted words:\", voc.num_words)\n",
    "    return voc, pairs"
   ]
  },
  {
   "cell_type": "code",
   "execution_count": 20,
   "metadata": {},
   "outputs": [
    {
     "name": "stdout",
     "output_type": "stream",
     "text": [
      "Start preparing training data ...\n",
      "Reading lines...\n",
      "Read 341547 sentence pairs\n",
      "Trimmed to 154837 sentence pairs\n",
      "Counting words...\n",
      "Counted words: 70083\n",
      "\n",
      "pairs:\n",
      "['probably not a vector icon', 'the other icons aren t vector icons either.']\n",
      "['ok anyone know how i set bios password in ubuntu already set', 'you d need to set that in your bios.']\n",
      "['how do i generate an xorg.conf file? for intel gmas', 'sudo xorg configure i think']\n",
      "['can use a udev rule for it', 'thanks']\n",
      "['parsi chmod parsi to the file', '']\n",
      "['since jaunty is still beta all issues discussions go in ubuntu channel please', 'thnx']\n",
      "['can someone giv me a link in ubuntu wiki to install sun java', '']\n",
      "['itsux bu i use deskyop version shall i use server one', 'yes. postfix dovecot tend to make a decent email stack.']\n",
      "['can anyone mend an nfs alternative that works transparently?', 'once you get nfs set up it is transparent']\n",
      "['http www.article.pl?sid article on ubuntu.', 'sloooow']\n"
     ]
    }
   ],
   "source": [
    "# Load/Assemble voc and pairs\n",
    "voc, pairs = loadPrepareData(corpus, corpus_name, datafile, MAX_LENGTH)\n",
    "# Print some pairs to validate\n",
    "print(\"\\npairs:\")\n",
    "for pair in pairs[:10]:\n",
    "    print(pair)"
   ]
  },
  {
   "attachments": {},
   "cell_type": "markdown",
   "metadata": {},
   "source": [
    "To achieve faster convergence during training, we are trimming rarely used words out of our vocabulary using the *MIN_COUNT* threshold we've set in **3.2 Data Analysis** section. We first call the *voc.trim* function and then we filter out the pairs with trimmed words."
   ]
  },
  {
   "cell_type": "code",
   "execution_count": 21,
   "metadata": {},
   "outputs": [
    {
     "name": "stdout",
     "output_type": "stream",
     "text": [
      "keep_words 20570 / 70080 = 0.2935\n",
      "Trimmed from 154837 pairs to 107895, 0.6968 of total\n",
      "['probably not a vector icon', 'the other icons aren t vector icons either.']\n",
      "['ok anyone know how i set bios password in ubuntu already set', 'you d need to set that in your bios.']\n",
      "['can use a udev rule for it', 'thanks']\n",
      "['since jaunty is still beta all issues discussions go in ubuntu channel please', 'thnx']\n",
      "['they ve been replaced by dejavu fonts', 'cool! thank you.']\n",
      "['can t you alt middle click and resize them?', 'that doesn t work for me']\n",
      "['against the upgrade tool', 'thanks']\n",
      "['hints on how to get nvidia driver to work?', 'help.community binarydriverhowto nvidia']\n",
      "['help.community binarydriverhowto nvidia', 'thanks']\n",
      "['probably. look at the bios for puter not here. !', 'ok thanks i thought it was something you did in the os']\n"
     ]
    }
   ],
   "source": [
    "def trimRareWords(voc, pairs, MIN_COUNT):\n",
    "    # Trim words used under the MIN_COUNT from the voc\n",
    "    voc.trim(MIN_COUNT)\n",
    "    # Filter out pairs with trimmed words\n",
    "    keep_pairs = []\n",
    "    for pair in pairs:\n",
    "        input_sentence = pair[0]\n",
    "        output_sentence = pair[1]\n",
    "        keep_input = True\n",
    "        keep_output = True\n",
    "        # Check input sentence\n",
    "        for word in input_sentence.split(' '):\n",
    "            if word not in voc.word2index or len(word) < 1:\n",
    "                keep_input = False\n",
    "                break\n",
    "        # Check output sentence\n",
    "        for word in output_sentence.split(' '):\n",
    "            if word not in voc.word2index or len(word) < 1:\n",
    "                keep_output = False\n",
    "                break\n",
    "\n",
    "        # Only keep pairs that do not contain trimmed word(s) in their input or output sentence\n",
    "        if keep_input and keep_output:\n",
    "            keep_pairs.append(pair)\n",
    "\n",
    "    print(\"Trimmed from {} pairs to {}, {:.4f} of total\".format(len(pairs), len(keep_pairs), len(keep_pairs) / len(pairs)))\n",
    "    return keep_pairs\n",
    "\n",
    "\n",
    "# Trim voc and pairs\n",
    "pairs = trimRareWords(voc, pairs, MIN_COUNT)\n",
    "for pair in pairs[:10]:\n",
    "    print(pair)"
   ]
  },
  {
   "attachments": {},
   "cell_type": "markdown",
   "metadata": {},
   "source": [
    "#### 4.3 Embedding, Padding, Mini-Batches"
   ]
  },
  {
   "attachments": {},
   "cell_type": "markdown",
   "metadata": {},
   "source": [
    "Using mini-batches heps to speed up training and also leverage GPU parallelization capabilities.\n",
    "\n",
    "Using mini-batches also means that we must be mindful of the variation of sentence length in our batches. To accommodate sentences of different sizes in the same batch, we will make our batched input tensor of shape (max_length, batch_size), where sentences shorter than the max_length are zero padded after an EOS_token.\n",
    "\n",
    "If we simply convert our English sentences to tensors by converting words to their indexes(indexesFromSentence) and zero-pad, our tensor would have shape (batch_size, max_length) and indexing the first dimension would return a full sequence across all time-steps. However, we need to be able to index our batch along time, and across all sequences in the batch. Therefore, we transpose our input batch shape to (max_length, batch_size), so that indexing across the first dimension returns a time step across all sentences in the batch. We handle this transpose implicitly in the zeroPadding function.\n",
    "\n",
    "![image.png](data:image/png;base64,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)\n",
    "\n",
    "\n",
    "The inputVar function handles the process of converting sentences to tensor, ultimately creating a correctly shaped zero-padded tensor. It also returns a tensor of lengths for each of the sequences in the batch which will be passed to our decoder later.\n",
    "\n",
    "The outputVar function performs a similar function to inputVar, but instead of returning a lengths tensor, it returns a binary mask tensor and a maximum target sentence length. The binary mask tensor has the same shape as the output target tensor, but every element that is a PAD_token is 0 and all others are 1.\n",
    "\n",
    "batch2TrainData simply takes a bunch of pairs and returns the input and target tensors using the aforementioned functions."
   ]
  },
  {
   "cell_type": "code",
   "execution_count": 22,
   "metadata": {},
   "outputs": [
    {
     "name": "stdout",
     "output_type": "stream",
     "text": [
      "input_variable: tensor([[  871,    69,    54,  2510,   535],\n",
      "        [   25,    47,  4403,  1829,   757],\n",
      "        [  185,    95,   172,     2,     2],\n",
      "        [   25,     5, 15502,     0,     0],\n",
      "        [   60,  9893,   148,     0,     0],\n",
      "        [   28,    29,   172,     0,     0],\n",
      "        [  125,   464,   155,     0,     0],\n",
      "        [ 1122,  1290,     2,     0,     0],\n",
      "        [  379,    47,     0,     0,     0],\n",
      "        [   37,  3554,     0,     0,     0],\n",
      "        [ 8450,     2,     0,     0,     0],\n",
      "        [    2,     0,     0,     0,     0]])\n",
      "lengths: tensor([12, 11,  8,  3,  3])\n",
      "target_variable: tensor([[1242,   18,  592,   48,   14],\n",
      "        [  18,  294,    2,    2,   48],\n",
      "        [ 375,   12,    0,    0,    2],\n",
      "        [ 372,  216,    0,    0,    0],\n",
      "        [  29, 4413,    0,    0,    0],\n",
      "        [   2,    2,    0,    0,    0]])\n",
      "mask: tensor([[ True,  True,  True,  True,  True],\n",
      "        [ True,  True,  True,  True,  True],\n",
      "        [ True,  True, False, False,  True],\n",
      "        [ True,  True, False, False, False],\n",
      "        [ True,  True, False, False, False],\n",
      "        [ True,  True, False, False, False]])\n",
      "max_target_len: 6\n"
     ]
    }
   ],
   "source": [
    "def indexesFromSentence(voc, sentence):\n",
    "    return [voc.word2index[word] for word in sentence.split(' ')] + [EOS_token]\n",
    "\n",
    "\n",
    "def zeroPadding(l, fillvalue=PAD_token):\n",
    "    return list(itertools.zip_longest(*l, fillvalue=fillvalue))\n",
    "\n",
    "def binaryMatrix(l, value=PAD_token):\n",
    "    m = []\n",
    "    for i, seq in enumerate(l):\n",
    "        m.append([])\n",
    "        for token in seq:\n",
    "            if token == PAD_token:\n",
    "                m[i].append(0)\n",
    "            else:\n",
    "                m[i].append(1)\n",
    "    return m\n",
    "\n",
    "# Returns padded input sequence tensor and lengths\n",
    "def inputVar(l, voc):\n",
    "    #print(l)\n",
    "    #for sentence in l:\n",
    "    #    print(indexesFromSentence(voc, sentence))\n",
    "    #print()\n",
    "    indexes_batch = [indexesFromSentence(voc, sentence) for sentence in l]\n",
    "    lengths = torch.tensor([len(indexes) for indexes in indexes_batch])\n",
    "    padList = zeroPadding(indexes_batch)\n",
    "    padVar = torch.LongTensor(padList)\n",
    "    #print(padVar)\n",
    "    #print(lengths)\n",
    "    return padVar, lengths\n",
    "\n",
    "# Returns padded target sequence tensor, padding mask, and max target length\n",
    "def outputVar(l, voc):\n",
    "    indexes_batch = [indexesFromSentence(voc, sentence) for sentence in l]\n",
    "    max_target_len = max([len(indexes) for indexes in indexes_batch])\n",
    "    padList = zeroPadding(indexes_batch)\n",
    "    mask = binaryMatrix(padList)\n",
    "    mask = torch.BoolTensor(mask)\n",
    "    padVar = torch.LongTensor(padList)\n",
    "    return padVar, mask, max_target_len\n",
    "\n",
    "# Returns all items for a given batch of pairs\n",
    "def batch2TrainData(voc, pair_batch):\n",
    "    #print()\n",
    "    pair_batch.sort(key=lambda x: len(x[0].split(\" \")), reverse=True)\n",
    "    input_batch, output_batch = [], []\n",
    "    for pair in pair_batch:\n",
    "        input_batch.append(pair[0])\n",
    "        output_batch.append(pair[1])\n",
    "    inp, lengths = inputVar(input_batch, voc)\n",
    "    output, mask, max_target_len = outputVar(output_batch, voc)\n",
    "    return inp, lengths, output, mask, max_target_len\n",
    "\n",
    "\n",
    "# Example for validation\n",
    "small_batch_size = 5\n",
    "batches = batch2TrainData(voc, [random.choice(pairs) for _ in range(small_batch_size)])\n",
    "input_variable, lengths, target_variable, mask, max_target_len = batches\n",
    "\n",
    "print(\"input_variable:\", input_variable)\n",
    "print(\"lengths:\", lengths)\n",
    "print(\"target_variable:\", target_variable)\n",
    "print(\"mask:\", mask)\n",
    "print(\"max_target_len:\", max_target_len)\n"
   ]
  },
  {
   "attachments": {},
   "cell_type": "markdown",
   "metadata": {},
   "source": [
    "Let's now build our Encoder network. The encoder RNN iterates through the input sentence one token (e.g. word) at a time, at each time step outputting an “output” vector and a “hidden state” vector. The hidden state vector is then passed to the next time step, while the output vector is recorded. The encoder transforms the context it saw at each point in the sequence into a set of points in a high-dimensional space, which the decoder will use to generate a meaningful output for the given task.\n",
    "\n",
    "Let's use a Bi-directional RNN to build our Encoder network."
   ]
  },
  {
   "attachments": {},
   "cell_type": "markdown",
   "metadata": {},
   "source": [
    "### 5. Seq2Seq Model"
   ]
  },
  {
   "attachments": {},
   "cell_type": "markdown",
   "metadata": {},
   "source": [
    "#### 5.1 Encoder class"
   ]
  },
  {
   "cell_type": "code",
   "execution_count": 23,
   "metadata": {},
   "outputs": [],
   "source": [
    "class EncoderRNN(nn.Module):\n",
    "    def __init__(self, hidden_size, embedding, n_layers=1, dropout=0):\n",
    "        super(EncoderRNN, self).__init__()\n",
    "        self.n_layers = n_layers\n",
    "        self.hidden_size = hidden_size\n",
    "        self.embedding = embedding\n",
    "\n",
    "        # Initialize GRU; the input_size and hidden_size params are both set to 'hidden_size'\n",
    "        #   because our input size is a word embedding with number of features == hidden_size\n",
    "        self.gru = nn.GRU(hidden_size, hidden_size, n_layers,\n",
    "                          dropout=(0 if n_layers == 1 else dropout), bidirectional=True)\n",
    "\n",
    "    def forward(self, input_seq, input_lengths, hidden=None):\n",
    "        # Convert word indexes to embeddings\n",
    "        embedded = self.embedding(input_seq)\n",
    "        # Pack padded batch of sequences for RNN module\n",
    "        packed = nn.utils.rnn.pack_padded_sequence(embedded, input_lengths)\n",
    "        # Forward pass through GRU\n",
    "        outputs, hidden = self.gru(packed, hidden)\n",
    "        # Unpack padding\n",
    "        outputs, _ = nn.utils.rnn.pad_packed_sequence(outputs)\n",
    "        # Sum bidirectional GRU outputs\n",
    "        outputs = outputs[:, :, :self.hidden_size] + outputs[:, : ,self.hidden_size:]\n",
    "        # Return output and final hidden state\n",
    "        return outputs, hidden"
   ]
  },
  {
   "attachments": {},
   "cell_type": "markdown",
   "metadata": {},
   "source": [
    "#### 5.2 Luong attention class"
   ]
  },
  {
   "cell_type": "code",
   "execution_count": 24,
   "metadata": {},
   "outputs": [],
   "source": [
    "# Luong attention layer\n",
    "class Attn(nn.Module):\n",
    "    def __init__(self, method, hidden_size):\n",
    "        super(Attn, self).__init__()\n",
    "        self.method = method\n",
    "        if self.method not in ['dot', 'general', 'concat']:\n",
    "            raise ValueError(self.method, \"is not an appropriate attention method.\")\n",
    "        self.hidden_size = hidden_size\n",
    "        if self.method == 'general':\n",
    "            self.attn = nn.Linear(self.hidden_size, hidden_size)\n",
    "        elif self.method == 'concat':\n",
    "            self.attn = nn.Linear(self.hidden_size * 2, hidden_size)\n",
    "            self.v = nn.Parameter(torch.FloatTensor(hidden_size))\n",
    "\n",
    "    def dot_score(self, hidden, encoder_output):\n",
    "        return torch.sum(hidden * encoder_output, dim=2)\n",
    "\n",
    "    def general_score(self, hidden, encoder_output):\n",
    "        energy = self.attn(encoder_output)\n",
    "        return torch.sum(hidden * energy, dim=2)\n",
    "\n",
    "    def concat_score(self, hidden, encoder_output):\n",
    "        energy = self.attn(torch.cat((hidden.expand(encoder_output.size(0), -1, -1), encoder_output), 2)).tanh()\n",
    "        return torch.sum(self.v * energy, dim=2)\n",
    "\n",
    "    def forward(self, hidden, encoder_outputs):\n",
    "        # Calculate the attention weights (energies) based on the given method\n",
    "        if self.method == 'general':\n",
    "            attn_energies = self.general_score(hidden, encoder_outputs)\n",
    "        elif self.method == 'concat':\n",
    "            attn_energies = self.concat_score(hidden, encoder_outputs)\n",
    "        elif self.method == 'dot':\n",
    "            attn_energies = self.dot_score(hidden, encoder_outputs)\n",
    "\n",
    "        # Transpose max_length and batch_size dimensions\n",
    "        attn_energies = attn_energies.t()\n",
    "\n",
    "        # Return the softmax normalized probability scores (with added dimension)\n",
    "        return F.softmax(attn_energies, dim=1).unsqueeze(1)"
   ]
  },
  {
   "attachments": {},
   "cell_type": "markdown",
   "metadata": {},
   "source": [
    "#### 5.3 Decoder class"
   ]
  },
  {
   "cell_type": "code",
   "execution_count": 25,
   "metadata": {},
   "outputs": [],
   "source": [
    "class LuongAttnDecoderRNN(nn.Module):\n",
    "    def __init__(self, attn_model, embedding, hidden_size, output_size, n_layers=1, dropout=0.1):\n",
    "        super(LuongAttnDecoderRNN, self).__init__()\n",
    "\n",
    "        # Keep for reference\n",
    "        self.attn_model = attn_model\n",
    "        self.hidden_size = hidden_size\n",
    "        self.output_size = output_size\n",
    "        self.n_layers = n_layers\n",
    "        self.dropout = dropout\n",
    "\n",
    "        # Define layers\n",
    "        self.embedding = embedding\n",
    "        self.embedding_dropout = nn.Dropout(dropout)\n",
    "        self.gru = nn.GRU(hidden_size, hidden_size, n_layers, dropout=(0 if n_layers == 1 else dropout))\n",
    "        self.concat = nn.Linear(hidden_size * 2, hidden_size)\n",
    "        self.out = nn.Linear(hidden_size, output_size)\n",
    "\n",
    "        self.attn = Attn(attn_model, hidden_size)\n",
    "\n",
    "    def forward(self, input_step, last_hidden, encoder_outputs):\n",
    "        # Note: we run this one step (word) at a time\n",
    "        # Get embedding of current input word\n",
    "        embedded = self.embedding(input_step)\n",
    "        embedded = self.embedding_dropout(embedded)\n",
    "        # Forward through unidirectional GRU\n",
    "        rnn_output, hidden = self.gru(embedded, last_hidden)\n",
    "        # Calculate attention weights from the current GRU output\n",
    "        attn_weights = self.attn(rnn_output, encoder_outputs)\n",
    "        # Multiply attention weights to encoder outputs to get new \"weighted sum\" context vector\n",
    "        context = attn_weights.bmm(encoder_outputs.transpose(0, 1))\n",
    "        # Concatenate weighted context vector and GRU output using Luong eq. 5\n",
    "        rnn_output = rnn_output.squeeze(0)\n",
    "        context = context.squeeze(1)\n",
    "        concat_input = torch.cat((rnn_output, context), 1)\n",
    "        concat_output = torch.tanh(self.concat(concat_input))\n",
    "        # Predict next word using Luong eq. 6\n",
    "        output = self.out(concat_output)\n",
    "        output = F.softmax(output, dim=1)\n",
    "        # Return output and final hidden state\n",
    "        return output, hidden"
   ]
  },
  {
   "attachments": {},
   "cell_type": "markdown",
   "metadata": {},
   "source": [
    "### 6 Model Training Procedure"
   ]
  },
  {
   "attachments": {},
   "cell_type": "markdown",
   "metadata": {},
   "source": [
    "#### 6.1 Masked loss"
   ]
  },
  {
   "attachments": {},
   "cell_type": "markdown",
   "metadata": {},
   "source": [
    "Since we are dealing with batches of padded sequences, we cannot simply consider all elements of the tensor when calculating loss. We define maskNLLLoss to calculate our loss based on our decoder’s output tensor, the target tensor, and a binary mask tensor describing the padding of the target tensor. This loss function calculates the average negative log likelihood of the elements that correspond to a 1 in the mask tensor."
   ]
  },
  {
   "cell_type": "code",
   "execution_count": 26,
   "metadata": {},
   "outputs": [],
   "source": [
    "def maskNLLLoss(inp, target, mask):\n",
    "    nTotal = mask.sum()\n",
    "    crossEntropy = -torch.log(torch.gather(inp, 1, target.view(-1, 1)).squeeze(1))\n",
    "    loss = crossEntropy.masked_select(mask).mean()\n",
    "    #loss = loss.to(device)\n",
    "    return loss, nTotal.item()"
   ]
  },
  {
   "attachments": {},
   "cell_type": "markdown",
   "metadata": {},
   "source": [
    "#### 6.2 Train function"
   ]
  },
  {
   "attachments": {},
   "cell_type": "markdown",
   "metadata": {},
   "source": [
    "The train function contains the algorithm for a single training iteration (a single batch of inputs).\n",
    "\n",
    "We will use a couple of clever tricks to aid in convergence:\n",
    "\n",
    "The first trick is using teacher forcing. This means that at some probability, set by teacher_forcing_ratio, we use the current target word as the decoder’s next input rather than using the decoder’s current guess. This technique acts as training wheels for the decoder, aiding in more efficient training. However, teacher forcing can lead to model instability during inference, as the decoder may not have a sufficient chance to truly craft its own output sequences during training. Thus, we must be mindful of how we are setting the teacher_forcing_ratio, and not be fooled by fast convergence.\n",
    "The second trick that we implement is gradient clipping. This is a commonly used technique for countering the “exploding gradient” problem. In essence, by clipping or thresholding gradients to a maximum value, we prevent the gradients from growing exponentially and either overflow (NaN), or overshoot steep cliffs in the cost function."
   ]
  },
  {
   "cell_type": "code",
   "execution_count": 27,
   "metadata": {},
   "outputs": [],
   "source": [
    "def train(input_variable, lengths, target_variable, mask, max_target_len, encoder, decoder, embedding,\n",
    "          encoder_optimizer, decoder_optimizer, batch_size, clip, teacher_forcing_ratio,max_length=MAX_LENGTH):\n",
    "\n",
    "    # Zero gradients\n",
    "    encoder_optimizer.zero_grad()\n",
    "    decoder_optimizer.zero_grad()\n",
    "\n",
    "    # Set device options\n",
    "    #input_variable = input_variable.to(device)\n",
    "    #target_variable = target_variable.to(device)\n",
    "    #mask = mask.to(device)\n",
    "    # Lengths for rnn packing should always be on the cpu\n",
    "    lengths = lengths.to(\"cpu\")\n",
    "\n",
    "    # Initialize variables\n",
    "    loss = 0\n",
    "    print_losses = []\n",
    "    n_totals = 0\n",
    "\n",
    "    # Forward pass through encoder\n",
    "    encoder_outputs, encoder_hidden = encoder(input_variable, lengths)\n",
    "\n",
    "    # Create initial decoder input (start with SOS tokens for each sentence)\n",
    "    decoder_input = torch.LongTensor([[SOS_token for _ in range(batch_size)]])\n",
    "    #decoder_input = decoder_input.to(device)\n",
    "\n",
    "    # Set initial decoder hidden state to the encoder's final hidden state\n",
    "    decoder_hidden = encoder_hidden[:decoder.n_layers]\n",
    "    \n",
    "\n",
    "    # Determine if we are using teacher forcing this iteration\n",
    "    use_teacher_forcing = True if random.random() < teacher_forcing_ratio else False\n",
    "\n",
    "    #print('max_target_len: ', max_target_len)\n",
    "\n",
    "    # Forward batch of sequences through decoder one time step at a time\n",
    "    if use_teacher_forcing:\n",
    "        for t in range(max_target_len):\n",
    "            decoder_output, decoder_hidden = decoder(\n",
    "                decoder_input, decoder_hidden, encoder_outputs\n",
    "            )\n",
    "            # Teacher forcing: next input is current target\n",
    "            decoder_input = target_variable[t].view(1, -1)\n",
    "            # Calculate and accumulate loss\n",
    "            mask_loss, nTotal = maskNLLLoss(decoder_output, target_variable[t], mask[t])\n",
    "            loss += mask_loss\n",
    "            print_losses.append(mask_loss.item() * nTotal)\n",
    "            n_totals += nTotal\n",
    "    else:\n",
    "        for t in range(max_target_len):\n",
    "            decoder_output, decoder_hidden = decoder(\n",
    "                decoder_input, decoder_hidden, encoder_outputs\n",
    "            )\n",
    "            # No teacher forcing: next input is decoder's own current output\n",
    "            _, topi = decoder_output.topk(1)\n",
    "            decoder_input = torch.LongTensor([[topi[i][0] for i in range(batch_size)]])\n",
    "            #decoder_input = decoder_input.to(device)\n",
    "            # Calculate and accumulate loss\n",
    "            mask_loss, nTotal = maskNLLLoss(decoder_output, target_variable[t], mask[t])\n",
    "            loss += mask_loss\n",
    "            print_losses.append(mask_loss.item() * nTotal)\n",
    "            n_totals += nTotal\n",
    "\n",
    "\n",
    "    # Perform backpropatation\n",
    "    loss.backward()\n",
    "\n",
    "    # Clip gradients: gradients are modified in place\n",
    "    _ = nn.utils.clip_grad_norm_(encoder.parameters(), clip)\n",
    "    _ = nn.utils.clip_grad_norm_(decoder.parameters(), clip)\n",
    "\n",
    "    # Adjust model weights\n",
    "    encoder_optimizer.step()\n",
    "    decoder_optimizer.step()\n",
    "\n",
    "    return sum(print_losses) / n_totals"
   ]
  },
  {
   "attachments": {},
   "cell_type": "markdown",
   "metadata": {},
   "source": [
    "#### 6.3 Training iterations"
   ]
  },
  {
   "attachments": {},
   "cell_type": "markdown",
   "metadata": {},
   "source": [
    "The trainIters function is responsible for running n_iterations of training given the passed models, optimizers, data, etc. This function is quite self explanatory, as we have done the heavy lifting with the train function.\n",
    "\n",
    "One thing to note is that when we save our model, we save a tarball containing the encoder and decoder state_dicts (parameters), the optimizers’ state_dicts, the loss, the iteration, etc. Saving the model in this way will give us the ultimate flexibility with the checkpoint. After loading a checkpoint, we will be able to use the model parameters to run inference, or we can continue training right where we left off."
   ]
  },
  {
   "cell_type": "code",
   "execution_count": 28,
   "metadata": {},
   "outputs": [],
   "source": [
    "def trainIters(model_name, voc, pairs, encoder, decoder, encoder_optimizer, decoder_optimizer, embedding, encoder_n_layers, decoder_n_layers, hidden_size, save_dir, n_iteration, batch_size, print_every, save_every, clip, corpus_name, teacher_forcing_ratio):\n",
    "\n",
    "    # Load batches for each  iteration\n",
    "    training_batches = [batch2TrainData(voc, [random.choice(pairs) for _ in range(batch_size)])\n",
    "                      for _ in range(n_iteration)]\n",
    "\n",
    "    # Initializations\n",
    "    print('Initializing ...')\n",
    "    start_iteration = 1\n",
    "    print_loss = 0\n",
    "    #if loadFilename:\n",
    "    #    start_iteration = checkpoint['iteration'] + 1\n",
    "\n",
    "    # Training loop\n",
    "    print(\"Training...\")\n",
    "    for iteration in range(start_iteration, n_iteration + 1):\n",
    "        training_batch = training_batches[iteration - 1]\n",
    "        # Extract fields from batch\n",
    "        input_variable, lengths, target_variable, mask, max_target_len = training_batch\n",
    "\n",
    "        # Run a training iteration with batch\n",
    "        loss = train(input_variable, lengths, target_variable, mask, max_target_len, encoder,\n",
    "                     decoder, embedding, encoder_optimizer, decoder_optimizer, batch_size, clip, teacher_forcing_ratio)\n",
    "        print_loss += loss\n",
    "\n",
    "        # Print progress\n",
    "        if iteration % print_every == 0:\n",
    "            print_loss_avg = print_loss / print_every\n",
    "            print(\"Iteration: {}; Percent complete: {:.1f}%; Average loss: {:.4f}\".format(iteration, iteration / n_iteration * 100, print_loss_avg))\n",
    "            print_loss = 0\n",
    "\n",
    "        # Save checkpoint\n",
    "        if (iteration % save_every == 0):\n",
    "            directory = os.path.join(save_dir, model_name, corpus_name, '{}-{}_{}'.format(encoder_n_layers, decoder_n_layers, hidden_size))\n",
    "            if not os.path.exists(directory):\n",
    "                os.makedirs(directory)\n",
    "            torch.save({\n",
    "                'iteration': iteration,\n",
    "                'en': encoder.state_dict(),\n",
    "                'de': decoder.state_dict(),\n",
    "                'en_opt': encoder_optimizer.state_dict(),\n",
    "                'de_opt': decoder_optimizer.state_dict(),\n",
    "                'loss': loss,\n",
    "                'voc_dict': voc.__dict__,\n",
    "                'embedding': embedding.state_dict()\n",
    "            }, os.path.join(directory, '{}_{}.tar'.format(iteration, 'checkpoint')))"
   ]
  },
  {
   "attachments": {},
   "cell_type": "markdown",
   "metadata": {},
   "source": [
    "#### 6.4 Greedy decoding"
   ]
  },
  {
   "attachments": {},
   "cell_type": "markdown",
   "metadata": {},
   "source": [
    "Greedy decoding is the decoding method that we use during training when we are NOT using teacher forcing. In other words, for each time step, we simply choose the word from decoder_output with the highest softmax value. This decoding method is optimal on a single time-step level."
   ]
  },
  {
   "cell_type": "code",
   "execution_count": 29,
   "metadata": {},
   "outputs": [],
   "source": [
    "class GreedySearchDecoder(nn.Module):\n",
    "    def __init__(self, encoder, decoder):\n",
    "        super(GreedySearchDecoder, self).__init__()\n",
    "        self.encoder = encoder\n",
    "        self.decoder = decoder\n",
    "\n",
    "    def forward(self, input_seq, input_length, max_length):\n",
    "        # Forward input through encoder model\n",
    "        encoder_outputs, encoder_hidden = self.encoder(input_seq, input_length)\n",
    "        # Prepare encoder's final hidden layer to be first hidden input to the decoder\n",
    "        decoder_hidden = encoder_hidden[:self.decoder.n_layers]\n",
    "        # Initialize decoder input with SOS_token\n",
    "        decoder_input = torch.ones(1, 1, dtype=torch.long) * SOS_token\n",
    "        # Initialize tensors to append decoded words to\n",
    "        all_tokens = torch.zeros([0], dtype=torch.long)\n",
    "        all_scores = torch.zeros([0])\n",
    "        # Iteratively decode one word token at a time\n",
    "        for _ in range(max_length):\n",
    "            # Forward pass through decoder\n",
    "            decoder_output, decoder_hidden = self.decoder(decoder_input, decoder_hidden, encoder_outputs)\n",
    "            # Obtain most likely word token and its softmax score\n",
    "            decoder_scores, decoder_input = torch.max(decoder_output, dim=1)\n",
    "            # Record token and score\n",
    "            all_tokens = torch.cat((all_tokens, decoder_input), dim=0)\n",
    "            all_scores = torch.cat((all_scores, decoder_scores), dim=0)\n",
    "            # Prepare current token to be next decoder input (add a dimension)\n",
    "            decoder_input = torch.unsqueeze(decoder_input, 0)\n",
    "        # Return collections of word tokens and scores\n",
    "        return all_tokens, all_scores"
   ]
  },
  {
   "attachments": {},
   "cell_type": "markdown",
   "metadata": {},
   "source": [
    "### 7. Model Tuning"
   ]
  },
  {
   "attachments": {},
   "cell_type": "markdown",
   "metadata": {},
   "source": [
    "### 7. Model Training"
   ]
  },
  {
   "attachments": {},
   "cell_type": "markdown",
   "metadata": {},
   "source": [
    "Model configuration variables."
   ]
  },
  {
   "cell_type": "code",
   "execution_count": 32,
   "metadata": {},
   "outputs": [],
   "source": [
    "# Configure models\n",
    "model_name = 'cb_model'\n",
    "attn_model = 'dot'\n",
    "#attn_model = 'general'\n",
    "#attn_model = 'concat'\n",
    "hidden_size = 500\n",
    "encoder_n_layers = 2\n",
    "decoder_n_layers = 2\n",
    "dropout = 0.1\n",
    "batch_size = 64\n",
    "\n",
    "save_dir = os.path.join(data, \"save\")\n",
    "save_dir\n",
    "\n"
   ]
  },
  {
   "cell_type": "code",
   "execution_count": 33,
   "metadata": {},
   "outputs": [
    {
     "name": "stdout",
     "output_type": "stream",
     "text": [
      "Building encoder and decoder ...\n",
      "Models built and ready to go!\n",
      "Building optimizers ...\n"
     ]
    }
   ],
   "source": [
    "print('Building encoder and decoder ...')\n",
    "# Initialize word embeddings\n",
    "embedding = nn.Embedding(voc.num_words, hidden_size)\n",
    "#if loadFilename:\n",
    "#    embedding.load_state_dict(embedding_sd)\n",
    "# Initialize encoder & decoder models\n",
    "encoder = EncoderRNN(hidden_size, embedding, encoder_n_layers, dropout)\n",
    "decoder = LuongAttnDecoderRNN(attn_model, embedding, hidden_size, voc.num_words, decoder_n_layers, dropout)\n",
    "#if loadFilename:\n",
    "#    encoder.load_state_dict(encoder_sd)\n",
    "#    decoder.load_state_dict(decoder_sd)\n",
    "# Use appropriate device\n",
    "#encoder = encoder.to(device)\n",
    "#decoder = decoder.to(device)\n",
    "print('Models built and ready to go!')\n",
    "\n",
    "# Configure training/optimization\n",
    "clip = 50.0\n",
    "teacher_forcing_ratio = 1.0\n",
    "learning_rate = 0.0001\n",
    "decoder_learning_ratio = 5.0\n",
    "n_iteration = 4000\n",
    "print_every = 250\n",
    "save_every = 1000\n",
    "\n",
    "# Ensure dropout layers are in train mode\n",
    "encoder.train()\n",
    "decoder.train()\n",
    "\n",
    "# Initialize optimizers\n",
    "print('Building optimizers ...')\n",
    "encoder_optimizer = optim.Adam(encoder.parameters(), lr=learning_rate)\n",
    "decoder_optimizer = optim.Adam(decoder.parameters(), lr=learning_rate * decoder_learning_ratio)\n",
    "\n",
    "#if loadFilename:\n",
    "#    encoder_optimizer.load_state_dict(encoder_optimizer_sd)\n",
    "#    decoder_optimizer.load_state_dict(decoder_optimizer_sd)\n",
    "\n",
    "# If you have cuda, configure cuda to call\n",
    "for state in encoder_optimizer.state.values():\n",
    "    for k, v in state.items():\n",
    "        if isinstance(v, torch.Tensor):\n",
    "            state[k] = v.cuda()\n",
    "\n",
    "for state in decoder_optimizer.state.values():\n",
    "    for k, v in state.items():\n",
    "        if isinstance(v, torch.Tensor):\n",
    "            state[k] = v.cuda()\n"
   ]
  },
  {
   "attachments": {},
   "cell_type": "markdown",
   "metadata": {},
   "source": [
    "Training iterations."
   ]
  },
  {
   "cell_type": "code",
   "execution_count": 35,
   "metadata": {},
   "outputs": [
    {
     "name": "stdout",
     "output_type": "stream",
     "text": [
      "Starting Training!\n",
      "Initializing ...\n",
      "Training...\n",
      "Iteration: 250; Percent complete: 6.2%; Average loss: 6.1854\n",
      "Iteration: 500; Percent complete: 12.5%; Average loss: 5.4730\n",
      "Iteration: 750; Percent complete: 18.8%; Average loss: 5.2182\n",
      "Iteration: 1000; Percent complete: 25.0%; Average loss: 5.0459\n",
      "Iteration: 1250; Percent complete: 31.2%; Average loss: 4.9522\n",
      "Iteration: 1500; Percent complete: 37.5%; Average loss: 4.8455\n",
      "Iteration: 1750; Percent complete: 43.8%; Average loss: 4.7501\n",
      "Iteration: 2000; Percent complete: 50.0%; Average loss: 4.6875\n",
      "Iteration: 2250; Percent complete: 56.2%; Average loss: 4.6142\n",
      "Iteration: 2500; Percent complete: 62.5%; Average loss: 4.5336\n",
      "Iteration: 2750; Percent complete: 68.8%; Average loss: 4.4793\n",
      "Iteration: 3000; Percent complete: 75.0%; Average loss: 4.4074\n",
      "Iteration: 3250; Percent complete: 81.2%; Average loss: 4.3949\n",
      "Iteration: 3500; Percent complete: 87.5%; Average loss: 4.3301\n",
      "Iteration: 3750; Percent complete: 93.8%; Average loss: 4.2867\n",
      "Iteration: 4000; Percent complete: 100.0%; Average loss: 4.2197\n"
     ]
    }
   ],
   "source": [
    "# Run training iterations\n",
    "print(\"Starting Training!\")\n",
    "trainIters(model_name, voc, pairs, encoder, decoder, encoder_optimizer, decoder_optimizer,\n",
    "           embedding, encoder_n_layers, decoder_n_layers, hidden_size, save_dir, n_iteration, batch_size,\n",
    "           print_every, save_every, clip, corpus_name, teacher_forcing_ratio)\n"
   ]
  },
  {
   "attachments": {},
   "cell_type": "markdown",
   "metadata": {},
   "source": [
    "### 8. Model Evaluation"
   ]
  },
  {
   "attachments": {},
   "cell_type": "markdown",
   "metadata": {},
   "source": [
    "Evaluate on text\n",
    "\n",
    "Now that we have our decoding method defined, we can write functions for evaluating a string input sentence. The evaluate function manages the low-level process of handling the input sentence. We first format the sentence as an input batch of word indexes with batch_size==1. We do this by converting the words of the sentence to their corresponding indexes, and transposing the dimensions to prepare the tensor for our models. We also create a lengths tensor which contains the length of our input sentence. In this case, lengths is scalar because we are only evaluating one sentence at a time (batch_size==1). Next, we obtain the decoded response sentence tensor using our GreedySearchDecoder object (searcher). Finally, we convert the response’s indexes to words and return the list of decoded words.\n",
    "\n",
    "evaluateInput acts as the user interface for our chatbot. When called, an input text field will spawn in which we can enter our query sentence. After typing our input sentence and pressing Enter, our text is normalized in the same way as our training data, and is ultimately fed to the evaluate function to obtain a decoded output sentence. We loop this process, so we can keep chatting with our bot until we enter either “q” or “quit”.\n",
    "\n",
    "Finally, if a sentence is entered that contains a word that is not in the vocabulary, we handle this gracefully by printing an error message and prompting the user to enter another sentence."
   ]
  },
  {
   "cell_type": "code",
   "execution_count": 36,
   "metadata": {},
   "outputs": [],
   "source": [
    "def evaluate(encoder, decoder, searcher, voc, sentence, max_length=MAX_LENGTH):\n",
    "    ### Format input sentence as a batch\n",
    "    # words -> indexes\n",
    "    indexes_batch = [indexesFromSentence(voc, sentence)]\n",
    "    # Create lengths tensor\n",
    "    lengths = torch.tensor([len(indexes) for indexes in indexes_batch])\n",
    "    # Transpose dimensions of batch to match models' expectations\n",
    "    input_batch = torch.LongTensor(indexes_batch).transpose(0, 1)\n",
    "    # Use appropriate device\n",
    "    #input_batch = input_batch.to(device)\n",
    "    lengths = lengths.to(\"cpu\")\n",
    "    # Decode sentence with searcher\n",
    "    tokens, scores = searcher(input_batch, lengths, max_length)\n",
    "    # indexes -> words\n",
    "    decoded_words = [voc.index2word[token.item()] for token in tokens]\n",
    "    return decoded_words"
   ]
  },
  {
   "cell_type": "code",
   "execution_count": 37,
   "metadata": {},
   "outputs": [],
   "source": [
    "def evaluateInput(encoder, decoder, searcher, voc):\n",
    "    input_sentence = ''\n",
    "    while(1):\n",
    "        try:\n",
    "            # Get input sentence\n",
    "            input_sentence = input('> ')\n",
    "            # Check if it is quit case\n",
    "            if input_sentence == 'q' or input_sentence == 'quit': break\n",
    "            # Normalize sentence\n",
    "            input_sentence = normalizeString(input_sentence)\n",
    "            # Evaluate sentence\n",
    "            output_words = evaluate(encoder, decoder, searcher, voc, input_sentence)\n",
    "            # Format and print response sentence\n",
    "            output_words[:] = [x for x in output_words if not (x == 'EOS' or x == 'PAD')]\n",
    "            print('Bot:', ' '.join(output_words))\n",
    "\n",
    "        except KeyError:\n",
    "            print(\"Error: Encountered unknown word.\")"
   ]
  },
  {
   "attachments": {},
   "cell_type": "markdown",
   "metadata": {},
   "source": [
    "Once, the training is finished, we can now load the saved model and run evaluation."
   ]
  },
  {
   "cell_type": "code",
   "execution_count": 38,
   "metadata": {},
   "outputs": [],
   "source": [
    "# Set checkpoint to load from; set to None if starting from scratch\n",
    "loadFilename = True\n",
    "checkpoint_iter = n_iteration # get the last checkpoint\n",
    "loadFilename = os.path.join(save_dir, model_name, corpus_name,\n",
    "                            '{}-{}_{}'.format(encoder_n_layers, decoder_n_layers, hidden_size),\n",
    "                            '{}_checkpoint.tar'.format(checkpoint_iter))\n",
    "\n",
    "# Load model if a loadFilename is provided\n",
    "if loadFilename:\n",
    "    # If loading on same machine the model was trained on\n",
    "    checkpoint = torch.load(loadFilename)\n",
    "    # If loading a model trained on GPU to CPU\n",
    "    #checkpoint = torch.load(loadFilename, map_location=torch.device('cpu'))\n",
    "    encoder_sd = checkpoint['en']\n",
    "    decoder_sd = checkpoint['de']\n",
    "    encoder_optimizer_sd = checkpoint['en_opt']\n",
    "    decoder_optimizer_sd = checkpoint['de_opt']\n",
    "    embedding_sd = checkpoint['embedding']\n",
    "    voc.__dict__ = checkpoint['voc_dict']\n",
    "\n",
    "if loadFilename:\n",
    "    embedding.load_state_dict(embedding_sd)\n",
    "\n",
    "if loadFilename:\n",
    "    encoder.load_state_dict(encoder_sd)\n",
    "    decoder.load_state_dict(decoder_sd)\n"
   ]
  },
  {
   "cell_type": "code",
   "execution_count": 39,
   "metadata": {},
   "outputs": [
    {
     "name": "stdout",
     "output_type": "stream",
     "text": [
      "Bot: hi\n",
      "Bot: i think you can use the ubuntu server\n",
      "Bot: i think\n",
      "Bot: i m not sure what you want to do?\n",
      "Bot: i think you can get it with sudo\n",
      "Bot: np\n",
      "Bot: i m not sure\n",
      "Bot: i don t know what it s the same thing\n",
      "Bot: thanks\n"
     ]
    }
   ],
   "source": [
    "# Set dropout layers to eval mode\n",
    "encoder.eval()\n",
    "decoder.eval()\n",
    "\n",
    "# Initialize search module\n",
    "searcher = GreedySearchDecoder(encoder, decoder)\n",
    "\n",
    "# Begin chatting (uncomment and run the following line to begin)\n",
    "evaluateInput(encoder, decoder, searcher, voc)\n"
   ]
  }
 ],
 "metadata": {
  "kernelspec": {
   "display_name": "uninlp",
   "language": "python",
   "name": "python3"
  },
  "language_info": {
   "codemirror_mode": {
    "name": "ipython",
    "version": 3
   },
   "file_extension": ".py",
   "mimetype": "text/x-python",
   "name": "python",
   "nbconvert_exporter": "python",
   "pygments_lexer": "ipython3",
   "version": "3.8.15"
  },
  "orig_nbformat": 4,
  "vscode": {
   "interpreter": {
    "hash": "c3646c27e7b29afb9ba407a5ee7e4ba1eab4c89d8fec695c45a46560bd02f793"
   }
  }
 },
 "nbformat": 4,
 "nbformat_minor": 2
}
