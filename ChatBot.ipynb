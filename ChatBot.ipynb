{
 "cells": [
  {
   "attachments": {},
   "cell_type": "markdown",
   "metadata": {},
   "source": [
    "### 1. Install - Import Libraries"
   ]
  },
  {
   "attachments": {},
   "cell_type": "markdown",
   "metadata": {},
   "source": [
    "Install required python libraries."
   ]
  },
  {
   "attachments": {},
   "cell_type": "markdown",
   "metadata": {},
   "source": [
    "Import python libraries."
   ]
  },
  {
   "cell_type": "code",
   "execution_count": 1,
   "metadata": {},
   "outputs": [
    {
     "name": "stderr",
     "output_type": "stream",
     "text": [
      "c:\\Miniconda\\envs\\py38_default\\lib\\site-packages\\scipy\\__init__.py:146: UserWarning: A NumPy version >=1.16.5 and <1.23.0 is required for this version of SciPy (detected version 1.23.5\n",
      "  warnings.warn(f\"A NumPy version >={np_minversion} and <{np_maxversion}\"\n"
     ]
    }
   ],
   "source": [
    "from __future__ import absolute_import\n",
    "from __future__ import division\n",
    "from __future__ import print_function\n",
    "from __future__ import unicode_literals\n",
    "\n",
    "import pandas as pd\n",
    "import numpy as np\n",
    "\n",
    "from nltk.translate.bleu_score import sentence_bleu\n",
    "from sklearn.model_selection import train_test_split\n",
    "import torch\n",
    "import torch.nn as nn\n",
    "import torch.optim as optim\n",
    "from torch.jit import script, trace\n",
    "import torch.nn.functional as F\n",
    "import csv\n",
    "import random\n",
    "import re\n",
    "import os\n",
    "import unicodedata\n",
    "import codecs\n",
    "from io import open\n",
    "import itertools\n",
    "import math\n",
    "\n",
    "from datatile.summary.df import DataFrameSummary\n",
    "from wordcloud import WordCloud\n",
    "from collections import Counter\n",
    "import matplotlib.pyplot as plt\n",
    "plt.switch_backend('agg')\n",
    "import matplotlib.ticker as ticker\n",
    "%matplotlib inline\n",
    "plt.close()"
   ]
  },
  {
   "attachments": {},
   "cell_type": "markdown",
   "metadata": {},
   "source": [
    "Set pytorch device to GPU cuda if present, otherwise set to CPU."
   ]
  },
  {
   "cell_type": "code",
   "execution_count": 2,
   "metadata": {},
   "outputs": [],
   "source": [
    " # set device to GPU or CPU\n",
    "device = torch.device(\"cuda\" if torch.cuda.is_available() else \"cpu\")"
   ]
  },
  {
   "attachments": {},
   "cell_type": "markdown",
   "metadata": {},
   "source": [
    "### 2. Import - Review Data"
   ]
  },
  {
   "attachments": {},
   "cell_type": "markdown",
   "metadata": {},
   "source": [
    "#### 2.1 Download corpus and set variables"
   ]
  },
  {
   "attachments": {},
   "cell_type": "markdown",
   "metadata": {},
   "source": [
    "Download corpus from: https://www.kaggle.com/datasets/rtatman/ubuntu-dialogue-corpus/download?datasetVersionNumber=2 and expand compressed archive in to the notebook's root folder."
   ]
  },
  {
   "attachments": {},
   "cell_type": "markdown",
   "metadata": {},
   "source": [
    "Save variables for data folder, corpus name, and print first 10 lines to review data."
   ]
  },
  {
   "cell_type": "code",
   "execution_count": 3,
   "metadata": {},
   "outputs": [
    {
     "name": "stdout",
     "output_type": "stream",
     "text": [
      "b'folder,dialogueID,date,from,to,text\\n'\n",
      "b'3,126125.tsv,2008-04-23T14:55:00.000Z,bad_image,,\"Hello folks, please help me a bit with the following sentence: \\'Order here your personal photos or videos.\\' - I think the only allowed version is \\'Order your personal videos or photos here.\\', but I\\'m not sure, are you?\"\\n'\n",
      "b'3,126125.tsv,2008-04-23T14:56:00.000Z,bad_image,,\"Did I choose a bad channel? I ask because you seem to be dumb like windows user\"\\n'\n",
      "b'3,126125.tsv,2008-04-23T14:57:00.000Z,lordleemo,bad_image,\"the second sentence is better english   and we are not dumb\"\\n'\n",
      "b'3,64545.tsv,2009-08-01T06:22:00.000Z,mechtech,,\"Sock Puppe?t\"\\n'\n",
      "b'3,64545.tsv,2009-08-01T06:22:00.000Z,mechtech,,\"WTF?\"\\n'\n",
      "b'3,64545.tsv,2009-08-01T06:22:00.000Z,richardcavell,mechtech,\"it\\'s a wikipedia term.  There is Prodigy, PRDIGY and prgidy and they\\'re all the same guy\"\\n'\n",
      "b'3,98758.tsv,2009-05-20T07:58:00.000Z,C-00000100,Severity1,\"what is bartek trying to do?\"\\n'\n",
      "b'3,98758.tsv,2009-05-20T08:01:00.000Z,C-00000100,Severity1,\"is he trying to play online video?\"\\n'\n",
      "b'3,98758.tsv,2009-05-20T08:04:00.000Z,C-00000100,Severity1,\"bartek go here, if this doesn\\'t play then it gives you a link to get it... http://www.milkandcookies.com/link/45466/detail/\"\\n'\n"
     ]
    }
   ],
   "source": [
    "data = \"./archive/\" # data root folder\n",
    "corpus_name = \"Ubuntu-dialogue-corpus/\" # corpus subfolder\n",
    "corpus = os.path.join(data, corpus_name) # join\n",
    "raw_data = \"dialogueText.csv\" # Existing raw data file\n",
    "formatted_data = \"formatted_dialogue_lines.txt\" # Will be creaated later on\n",
    "\n",
    "# print first 10 lines\n",
    "def printLines(file, n=10):\n",
    "    with open(file, 'rb') as datafile:\n",
    "        lines = datafile.readlines()\n",
    "    for line in lines[:n]:\n",
    "        print(line)\n",
    "\n",
    "printLines(os.path.join(corpus, raw_data))"
   ]
  },
  {
   "attachments": {},
   "cell_type": "markdown",
   "metadata": {},
   "source": [
    "#### 2.2 Load data - initial review and clean up"
   ]
  },
  {
   "attachments": {},
   "cell_type": "markdown",
   "metadata": {},
   "source": [
    "Load *'dialogueText.csv'* to pandas series object and print first 10 lines for review."
   ]
  },
  {
   "cell_type": "code",
   "execution_count": 4,
   "metadata": {},
   "outputs": [
    {
     "data": {
      "text/html": [
       "<div>\n",
       "<style scoped>\n",
       "    .dataframe tbody tr th:only-of-type {\n",
       "        vertical-align: middle;\n",
       "    }\n",
       "\n",
       "    .dataframe tbody tr th {\n",
       "        vertical-align: top;\n",
       "    }\n",
       "\n",
       "    .dataframe thead th {\n",
       "        text-align: right;\n",
       "    }\n",
       "</style>\n",
       "<table border=\"1\" class=\"dataframe\">\n",
       "  <thead>\n",
       "    <tr style=\"text-align: right;\">\n",
       "      <th></th>\n",
       "      <th>folder</th>\n",
       "      <th>dialogueID</th>\n",
       "      <th>date</th>\n",
       "      <th>from</th>\n",
       "      <th>to</th>\n",
       "      <th>text</th>\n",
       "    </tr>\n",
       "  </thead>\n",
       "  <tbody>\n",
       "    <tr>\n",
       "      <th>0</th>\n",
       "      <td>3</td>\n",
       "      <td>126125.tsv</td>\n",
       "      <td>2008-04-23T14:55:00.000Z</td>\n",
       "      <td>bad_image</td>\n",
       "      <td>NaN</td>\n",
       "      <td>Hello folks, please help me a bit with the fol...</td>\n",
       "    </tr>\n",
       "    <tr>\n",
       "      <th>1</th>\n",
       "      <td>3</td>\n",
       "      <td>126125.tsv</td>\n",
       "      <td>2008-04-23T14:56:00.000Z</td>\n",
       "      <td>bad_image</td>\n",
       "      <td>NaN</td>\n",
       "      <td>Did I choose a bad channel? I ask because you ...</td>\n",
       "    </tr>\n",
       "    <tr>\n",
       "      <th>2</th>\n",
       "      <td>3</td>\n",
       "      <td>126125.tsv</td>\n",
       "      <td>2008-04-23T14:57:00.000Z</td>\n",
       "      <td>lordleemo</td>\n",
       "      <td>bad_image</td>\n",
       "      <td>the second sentence is better english   and we...</td>\n",
       "    </tr>\n",
       "    <tr>\n",
       "      <th>3</th>\n",
       "      <td>3</td>\n",
       "      <td>64545.tsv</td>\n",
       "      <td>2009-08-01T06:22:00.000Z</td>\n",
       "      <td>mechtech</td>\n",
       "      <td>NaN</td>\n",
       "      <td>Sock Puppe?t</td>\n",
       "    </tr>\n",
       "    <tr>\n",
       "      <th>4</th>\n",
       "      <td>3</td>\n",
       "      <td>64545.tsv</td>\n",
       "      <td>2009-08-01T06:22:00.000Z</td>\n",
       "      <td>mechtech</td>\n",
       "      <td>NaN</td>\n",
       "      <td>WTF?</td>\n",
       "    </tr>\n",
       "    <tr>\n",
       "      <th>5</th>\n",
       "      <td>3</td>\n",
       "      <td>64545.tsv</td>\n",
       "      <td>2009-08-01T06:22:00.000Z</td>\n",
       "      <td>richardcavell</td>\n",
       "      <td>mechtech</td>\n",
       "      <td>it's a wikipedia term.  There is Prodigy, PRDI...</td>\n",
       "    </tr>\n",
       "    <tr>\n",
       "      <th>6</th>\n",
       "      <td>3</td>\n",
       "      <td>98758.tsv</td>\n",
       "      <td>2009-05-20T07:58:00.000Z</td>\n",
       "      <td>C-00000100</td>\n",
       "      <td>Severity1</td>\n",
       "      <td>what is bartek trying to do?</td>\n",
       "    </tr>\n",
       "    <tr>\n",
       "      <th>7</th>\n",
       "      <td>3</td>\n",
       "      <td>98758.tsv</td>\n",
       "      <td>2009-05-20T08:01:00.000Z</td>\n",
       "      <td>C-00000100</td>\n",
       "      <td>Severity1</td>\n",
       "      <td>is he trying to play online video?</td>\n",
       "    </tr>\n",
       "    <tr>\n",
       "      <th>8</th>\n",
       "      <td>3</td>\n",
       "      <td>98758.tsv</td>\n",
       "      <td>2009-05-20T08:04:00.000Z</td>\n",
       "      <td>C-00000100</td>\n",
       "      <td>Severity1</td>\n",
       "      <td>bartek go here, if this doesn't play then it g...</td>\n",
       "    </tr>\n",
       "    <tr>\n",
       "      <th>9</th>\n",
       "      <td>3</td>\n",
       "      <td>86303.tsv</td>\n",
       "      <td>2010-08-24T19:56:00.000Z</td>\n",
       "      <td>pozic</td>\n",
       "      <td>Somelauw</td>\n",
       "      <td>the algorithms from aptitude were ported to ap...</td>\n",
       "    </tr>\n",
       "  </tbody>\n",
       "</table>\n",
       "</div>"
      ],
      "text/plain": [
       "   folder  dialogueID                      date           from         to  \\\n",
       "0       3  126125.tsv  2008-04-23T14:55:00.000Z      bad_image        NaN   \n",
       "1       3  126125.tsv  2008-04-23T14:56:00.000Z      bad_image        NaN   \n",
       "2       3  126125.tsv  2008-04-23T14:57:00.000Z      lordleemo  bad_image   \n",
       "3       3   64545.tsv  2009-08-01T06:22:00.000Z       mechtech        NaN   \n",
       "4       3   64545.tsv  2009-08-01T06:22:00.000Z       mechtech        NaN   \n",
       "5       3   64545.tsv  2009-08-01T06:22:00.000Z  richardcavell   mechtech   \n",
       "6       3   98758.tsv  2009-05-20T07:58:00.000Z     C-00000100  Severity1   \n",
       "7       3   98758.tsv  2009-05-20T08:01:00.000Z     C-00000100  Severity1   \n",
       "8       3   98758.tsv  2009-05-20T08:04:00.000Z     C-00000100  Severity1   \n",
       "9       3   86303.tsv  2010-08-24T19:56:00.000Z          pozic   Somelauw   \n",
       "\n",
       "                                                text  \n",
       "0  Hello folks, please help me a bit with the fol...  \n",
       "1  Did I choose a bad channel? I ask because you ...  \n",
       "2  the second sentence is better english   and we...  \n",
       "3                                       Sock Puppe?t  \n",
       "4                                               WTF?  \n",
       "5  it's a wikipedia term.  There is Prodigy, PRDI...  \n",
       "6                       what is bartek trying to do?  \n",
       "7                 is he trying to play online video?  \n",
       "8  bartek go here, if this doesn't play then it g...  \n",
       "9  the algorithms from aptitude were ported to ap...  "
      ]
     },
     "execution_count": 4,
     "metadata": {},
     "output_type": "execute_result"
    }
   ],
   "source": [
    "df = pd.read_csv(corpus + raw_data)\n",
    "df.head(10)"
   ]
  },
  {
   "attachments": {},
   "cell_type": "markdown",
   "metadata": {},
   "source": [
    "Drop unused columns to save processing time and remove *'.tsv'* from **dialogueID**.\n",
    "Print first 10 lines for review."
   ]
  },
  {
   "cell_type": "code",
   "execution_count": 5,
   "metadata": {},
   "outputs": [
    {
     "data": {
      "text/html": [
       "<div>\n",
       "<style scoped>\n",
       "    .dataframe tbody tr th:only-of-type {\n",
       "        vertical-align: middle;\n",
       "    }\n",
       "\n",
       "    .dataframe tbody tr th {\n",
       "        vertical-align: top;\n",
       "    }\n",
       "\n",
       "    .dataframe thead th {\n",
       "        text-align: right;\n",
       "    }\n",
       "</style>\n",
       "<table border=\"1\" class=\"dataframe\">\n",
       "  <thead>\n",
       "    <tr style=\"text-align: right;\">\n",
       "      <th></th>\n",
       "      <th>dialogueID</th>\n",
       "      <th>from</th>\n",
       "      <th>to</th>\n",
       "      <th>text</th>\n",
       "    </tr>\n",
       "  </thead>\n",
       "  <tbody>\n",
       "    <tr>\n",
       "      <th>0</th>\n",
       "      <td>126125</td>\n",
       "      <td>bad_image</td>\n",
       "      <td>NaN</td>\n",
       "      <td>Hello folks, please help me a bit with the fol...</td>\n",
       "    </tr>\n",
       "    <tr>\n",
       "      <th>1</th>\n",
       "      <td>126125</td>\n",
       "      <td>bad_image</td>\n",
       "      <td>NaN</td>\n",
       "      <td>Did I choose a bad channel? I ask because you ...</td>\n",
       "    </tr>\n",
       "    <tr>\n",
       "      <th>2</th>\n",
       "      <td>126125</td>\n",
       "      <td>lordleemo</td>\n",
       "      <td>bad_image</td>\n",
       "      <td>the second sentence is better english   and we...</td>\n",
       "    </tr>\n",
       "    <tr>\n",
       "      <th>3</th>\n",
       "      <td>64545</td>\n",
       "      <td>mechtech</td>\n",
       "      <td>NaN</td>\n",
       "      <td>Sock Puppe?t</td>\n",
       "    </tr>\n",
       "    <tr>\n",
       "      <th>4</th>\n",
       "      <td>64545</td>\n",
       "      <td>mechtech</td>\n",
       "      <td>NaN</td>\n",
       "      <td>WTF?</td>\n",
       "    </tr>\n",
       "    <tr>\n",
       "      <th>5</th>\n",
       "      <td>64545</td>\n",
       "      <td>richardcavell</td>\n",
       "      <td>mechtech</td>\n",
       "      <td>it's a wikipedia term.  There is Prodigy, PRDI...</td>\n",
       "    </tr>\n",
       "    <tr>\n",
       "      <th>6</th>\n",
       "      <td>98758</td>\n",
       "      <td>C-00000100</td>\n",
       "      <td>Severity1</td>\n",
       "      <td>what is bartek trying to do?</td>\n",
       "    </tr>\n",
       "    <tr>\n",
       "      <th>7</th>\n",
       "      <td>98758</td>\n",
       "      <td>C-00000100</td>\n",
       "      <td>Severity1</td>\n",
       "      <td>is he trying to play online video?</td>\n",
       "    </tr>\n",
       "    <tr>\n",
       "      <th>8</th>\n",
       "      <td>98758</td>\n",
       "      <td>C-00000100</td>\n",
       "      <td>Severity1</td>\n",
       "      <td>bartek go here, if this doesn't play then it g...</td>\n",
       "    </tr>\n",
       "    <tr>\n",
       "      <th>9</th>\n",
       "      <td>86303</td>\n",
       "      <td>pozic</td>\n",
       "      <td>Somelauw</td>\n",
       "      <td>the algorithms from aptitude were ported to ap...</td>\n",
       "    </tr>\n",
       "  </tbody>\n",
       "</table>\n",
       "</div>"
      ],
      "text/plain": [
       "  dialogueID           from         to  \\\n",
       "0     126125      bad_image        NaN   \n",
       "1     126125      bad_image        NaN   \n",
       "2     126125      lordleemo  bad_image   \n",
       "3      64545       mechtech        NaN   \n",
       "4      64545       mechtech        NaN   \n",
       "5      64545  richardcavell   mechtech   \n",
       "6      98758     C-00000100  Severity1   \n",
       "7      98758     C-00000100  Severity1   \n",
       "8      98758     C-00000100  Severity1   \n",
       "9      86303          pozic   Somelauw   \n",
       "\n",
       "                                                text  \n",
       "0  Hello folks, please help me a bit with the fol...  \n",
       "1  Did I choose a bad channel? I ask because you ...  \n",
       "2  the second sentence is better english   and we...  \n",
       "3                                       Sock Puppe?t  \n",
       "4                                               WTF?  \n",
       "5  it's a wikipedia term.  There is Prodigy, PRDI...  \n",
       "6                       what is bartek trying to do?  \n",
       "7                 is he trying to play online video?  \n",
       "8  bartek go here, if this doesn't play then it g...  \n",
       "9  the algorithms from aptitude were ported to ap...  "
      ]
     },
     "execution_count": 5,
     "metadata": {},
     "output_type": "execute_result"
    }
   ],
   "source": [
    "df.drop(['folder', 'date'], axis=1, inplace=True)\n",
    "df['dialogueID'] = df['dialogueID'].str.replace(r'.tsv', '', regex=True)\n",
    "df.head(10)"
   ]
  },
  {
   "attachments": {},
   "cell_type": "markdown",
   "metadata": {},
   "source": [
    "Use DataFrameSummary method to review data column statistics."
   ]
  },
  {
   "cell_type": "code",
   "execution_count": 6,
   "metadata": {},
   "outputs": [
    {
     "name": "stderr",
     "output_type": "stream",
     "text": [
      "c:\\Miniconda\\envs\\py38_default\\lib\\site-packages\\datatile\\summary\\df.py:39: FutureWarning: The default value of numeric_only in DataFrame.corr is deprecated. In a future version, it will default to False. Select only valid columns or specify the value of numeric_only to silence this warning.\n",
      "  self.corr = df.corr()\n"
     ]
    },
    {
     "data": {
      "text/html": [
       "<div>\n",
       "<style scoped>\n",
       "    .dataframe tbody tr th:only-of-type {\n",
       "        vertical-align: middle;\n",
       "    }\n",
       "\n",
       "    .dataframe tbody tr th {\n",
       "        vertical-align: top;\n",
       "    }\n",
       "\n",
       "    .dataframe thead th {\n",
       "        text-align: right;\n",
       "    }\n",
       "</style>\n",
       "<table border=\"1\" class=\"dataframe\">\n",
       "  <thead>\n",
       "    <tr style=\"text-align: right;\">\n",
       "      <th></th>\n",
       "      <th>dialogueID</th>\n",
       "      <th>from</th>\n",
       "      <th>to</th>\n",
       "      <th>text</th>\n",
       "    </tr>\n",
       "  </thead>\n",
       "  <tbody>\n",
       "    <tr>\n",
       "      <th>counts</th>\n",
       "      <td>1038324</td>\n",
       "      <td>1038311</td>\n",
       "      <td>566035</td>\n",
       "      <td>1038237</td>\n",
       "    </tr>\n",
       "    <tr>\n",
       "      <th>uniques</th>\n",
       "      <td>346108</td>\n",
       "      <td>164083</td>\n",
       "      <td>149488</td>\n",
       "      <td>863907</td>\n",
       "    </tr>\n",
       "    <tr>\n",
       "      <th>missing</th>\n",
       "      <td>0</td>\n",
       "      <td>13</td>\n",
       "      <td>472289</td>\n",
       "      <td>87</td>\n",
       "    </tr>\n",
       "    <tr>\n",
       "      <th>missing_perc</th>\n",
       "      <td>0%</td>\n",
       "      <td>0%</td>\n",
       "      <td>45.49%</td>\n",
       "      <td>0.01%</td>\n",
       "    </tr>\n",
       "    <tr>\n",
       "      <th>types</th>\n",
       "      <td>categorical</td>\n",
       "      <td>categorical</td>\n",
       "      <td>categorical</td>\n",
       "      <td>categorical</td>\n",
       "    </tr>\n",
       "  </tbody>\n",
       "</table>\n",
       "</div>"
      ],
      "text/plain": [
       "               dialogueID         from           to         text\n",
       "counts            1038324      1038311       566035      1038237\n",
       "uniques            346108       164083       149488       863907\n",
       "missing                 0           13       472289           87\n",
       "missing_perc           0%           0%       45.49%        0.01%\n",
       "types         categorical  categorical  categorical  categorical"
      ]
     },
     "execution_count": 6,
     "metadata": {},
     "output_type": "execute_result"
    }
   ],
   "source": [
    "DataFrameSummary(df).columns_stats"
   ]
  },
  {
   "attachments": {},
   "cell_type": "markdown",
   "metadata": {},
   "source": [
    "Drop null values from 'text' and 'from' columns. The 'to' column has a lot of missing values but this is expected since all first comments are adressed to null. Review column statistics again."
   ]
  },
  {
   "cell_type": "code",
   "execution_count": 7,
   "metadata": {},
   "outputs": [
    {
     "name": "stderr",
     "output_type": "stream",
     "text": [
      "c:\\Miniconda\\envs\\py38_default\\lib\\site-packages\\datatile\\summary\\df.py:39: FutureWarning: The default value of numeric_only in DataFrame.corr is deprecated. In a future version, it will default to False. Select only valid columns or specify the value of numeric_only to silence this warning.\n",
      "  self.corr = df.corr()\n"
     ]
    },
    {
     "data": {
      "text/html": [
       "<div>\n",
       "<style scoped>\n",
       "    .dataframe tbody tr th:only-of-type {\n",
       "        vertical-align: middle;\n",
       "    }\n",
       "\n",
       "    .dataframe tbody tr th {\n",
       "        vertical-align: top;\n",
       "    }\n",
       "\n",
       "    .dataframe thead th {\n",
       "        text-align: right;\n",
       "    }\n",
       "</style>\n",
       "<table border=\"1\" class=\"dataframe\">\n",
       "  <thead>\n",
       "    <tr style=\"text-align: right;\">\n",
       "      <th></th>\n",
       "      <th>dialogueID</th>\n",
       "      <th>from</th>\n",
       "      <th>to</th>\n",
       "      <th>text</th>\n",
       "    </tr>\n",
       "  </thead>\n",
       "  <tbody>\n",
       "    <tr>\n",
       "      <th>counts</th>\n",
       "      <td>1038224</td>\n",
       "      <td>1038224</td>\n",
       "      <td>566029</td>\n",
       "      <td>1038224</td>\n",
       "    </tr>\n",
       "    <tr>\n",
       "      <th>uniques</th>\n",
       "      <td>346108</td>\n",
       "      <td>164077</td>\n",
       "      <td>149488</td>\n",
       "      <td>863895</td>\n",
       "    </tr>\n",
       "    <tr>\n",
       "      <th>missing</th>\n",
       "      <td>0</td>\n",
       "      <td>0</td>\n",
       "      <td>472195</td>\n",
       "      <td>0</td>\n",
       "    </tr>\n",
       "    <tr>\n",
       "      <th>missing_perc</th>\n",
       "      <td>0%</td>\n",
       "      <td>0%</td>\n",
       "      <td>45.48%</td>\n",
       "      <td>0%</td>\n",
       "    </tr>\n",
       "    <tr>\n",
       "      <th>types</th>\n",
       "      <td>categorical</td>\n",
       "      <td>categorical</td>\n",
       "      <td>categorical</td>\n",
       "      <td>categorical</td>\n",
       "    </tr>\n",
       "  </tbody>\n",
       "</table>\n",
       "</div>"
      ],
      "text/plain": [
       "               dialogueID         from           to         text\n",
       "counts            1038224      1038224       566029      1038224\n",
       "uniques            346108       164077       149488       863895\n",
       "missing                 0            0       472195            0\n",
       "missing_perc           0%           0%       45.48%           0%\n",
       "types         categorical  categorical  categorical  categorical"
      ]
     },
     "execution_count": 7,
     "metadata": {},
     "output_type": "execute_result"
    }
   ],
   "source": [
    "df.dropna(subset=['text', 'from'], inplace=True)\n",
    "DataFrameSummary(df).columns_stats"
   ]
  },
  {
   "attachments": {},
   "cell_type": "markdown",
   "metadata": {},
   "source": [
    "### 3. Data Transformation & Analysis"
   ]
  },
  {
   "attachments": {},
   "cell_type": "markdown",
   "metadata": {},
   "source": [
    "#### 3.1 Transform data to Input Output pairs"
   ]
  },
  {
   "attachments": {},
   "cell_type": "markdown",
   "metadata": {},
   "source": [
    "Convert dataframe to dictionary using dataframe's index as key and row values as nested dictionary. Print example."
   ]
  },
  {
   "cell_type": "code",
   "execution_count": 8,
   "metadata": {},
   "outputs": [
    {
     "data": {
      "text/plain": [
       "{'dialogueID': '126125',\n",
       " 'from': 'bad_image',\n",
       " 'to': nan,\n",
       " 'text': \"Hello folks, please help me a bit with the following sentence: 'Order here your personal photos or videos.' - I think the only allowed version is 'Order your personal videos or photos here.', but I'm not sure, are you?\"}"
      ]
     },
     "execution_count": 8,
     "metadata": {},
     "output_type": "execute_result"
    }
   ],
   "source": [
    "#Convert dataframe to dictionary using dataframes index as key and row values as nested dictionary.\n",
    "conv_dict = df.to_dict('index')\n",
    "\n",
    "# print example\n",
    "conv_dict[0]"
   ]
  },
  {
   "attachments": {},
   "cell_type": "markdown",
   "metadata": {},
   "source": [
    "Define helper functions for combining consecutive text from the same person to one input and for extracting input-ouput pairs from conversations."
   ]
  },
  {
   "cell_type": "code",
   "execution_count": 9,
   "metadata": {},
   "outputs": [],
   "source": [
    "# Combine consecutive text from same person to one sentence\n",
    "def combine_text(dictionary):\n",
    "    for key in reversed(dictionary):  # loop on reversed dictionary\n",
    "        if key+1 in dictionary and dictionary[key]['from'] == dictionary[key+1]['from']:  # if current iteration and next are from same user\n",
    "            dictionary[key+1]['text'] = str(dictionary[key]['text']) + \" \" + str(dictionary[key+1]['text'])  # get text from current and append to next iteration text\n",
    "            dictionary[key]['from'] = \"del\"  # set \"from\" value to \"del\"\n",
    "\n",
    "    for key, value in dict(dictionary).items(): # loop over dictionary\n",
    "        if value['from'] == \"del\": # if \"from\" value is \"del\"\n",
    "                del dictionary[key] # delete line\n",
    "                \n",
    "    return dictionary   \n",
    "\n",
    "# Extracts input output pairs from conversations\n",
    "def extract_pairs(conversations):\n",
    "    qa_pairs = [] # initiate pairs dictionary\n",
    "        # Iterate over all the lines of the conversation\n",
    "    for key in conversations:\n",
    "        if key+1 in conversations and conversations[key]['dialogueID'] == conversations[key+1]['dialogueID']: # if not beyond index and dialogue ID equals next iterations dialogue ID\n",
    "            inputLine = str(conversations[key]['text']).strip() # set input text as current iteration\n",
    "            targetLine = str(conversations[key+1]['text']).strip() # set output text as next iteration\n",
    "            # Filter wrong samples (if one of the lists is empty)\n",
    "            if inputLine and targetLine: \n",
    "                qa_pairs.append([inputLine, targetLine]) # append pait to pairs dictionary\n",
    "    return qa_pairs                         "
   ]
  },
  {
   "attachments": {},
   "cell_type": "markdown",
   "metadata": {},
   "source": [
    "Set deliniter and new file path, run **combine_text** and **extract_pairs** functions, and write results to *\"formatted_dialogue_lines.txt\"* file. Print 10 lines to review data."
   ]
  },
  {
   "cell_type": "code",
   "execution_count": 10,
   "metadata": {},
   "outputs": [
    {
     "name": "stdout",
     "output_type": "stream",
     "text": [
      "\n",
      "Processing corpus into lines and conversation pairs...\n",
      "\n",
      "Writing newly formatted file...\n",
      "\n",
      "Sample lines from file:\n",
      "b\"Hello folks, please help me a bit with the following sentence: 'Order here your personal photos or videos.' - I think the only allowed version is 'Order your personal videos or photos here.', but I'm not sure, are you? Did I choose a bad channel? I ask because you seem to be dumb like windows user\\tthe second sentence is better english   and we are not dumb\\r\\n\"\n",
      "b\"Sock Puppe?t WTF?\\tit's a wikipedia term.  There is Prodigy, PRDIGY and prgidy and they're all the same guy\\r\\n\"\n",
      "b\"is there any reason why my 'network manager' icon in my tray does not scale when the other ones get resized when i change the size of the panel?\\tprobably not a vector icon\\r\\n\"\n",
      "b\"probably not a vector icon\\tthe other icons aren't vector icons either.\\r\\n\"\n",
      "b\"I installed the 64bit version of ubuntu and I can't open firefox(segfault) and if I try to open nautilus nothing happens and my cpu goes 100%, what can I do??? Anyone knows why after I installed the 64bit version of ubuntu and I can't open firefox(segfault) and if I try to open nautilus nothing happens and my cpu goes 100%, what can I do???\\ti sent you a link on how to install 32 bit\\r\\n\"\n",
      "b\"ok, anyone know how I set bios password in ubuntu already set\\tyou'd need to set that in your BIOS.\\r\\n\"\n",
      "b\"Hello Does Ubuntu have somekind of register to configure applications and os settings? Hello Does Ubuntu have somekind of register to configure applications and os settings?\\tLinux doesn't have an equivalent to the Windows registry\\r\\n\"\n",
      "b\"how do i generate an xorg.conf file? for intel GMAs\\t'sudo xorg -configure', I think\\r\\n\"\n",
      "b'Where does synoptic install the programs to? Like it aint on desktop nvm\\tSynaptic installs the programs to wherever they need to be installed.  Most of them can be found in the Gnome menu, and if not there, in the Debian submenu.  All applications on your system that are recognized by Synaptic are in your Debian submenu.\\r\\n'\n",
      "b'are there any utils that will do a repair of your laptop once in a while ? like you have advaned system optimizer in windows sort of stuff\\trepair in the sense? clean up of unused files ?\\r\\n'\n"
     ]
    }
   ],
   "source": [
    "'''\n",
    "Apply combine text and extract pairs functions that complete data transformation\n",
    "'''\n",
    "# Set delimiter\n",
    "delimiter = '\\t'\n",
    "# Unescape the delimiter\n",
    "delimiter = str(codecs.decode(delimiter, \"unicode_escape\"))\n",
    "\n",
    "# Define path to new file\n",
    "datafile = os.path.join(corpus, formatted_data)\n",
    "\n",
    "print(\"\\nProcessing corpus into lines and conversation pairs...\")\n",
    "dictionary = combine_text(conv_dict)\n",
    "pairs = extract_pairs(dictionary)\n",
    "\n",
    "# Write new csv file\n",
    "print(\"\\nWriting newly formatted file...\")\n",
    "with open(datafile, 'w', encoding='utf-8') as outputfile:\n",
    "    writer = csv.writer(outputfile, delimiter=delimiter, lineterminator='\\n')\n",
    "    for pair in pairs:\n",
    "        writer.writerow(pair)\n",
    "\n",
    "# Print a sample of lines\n",
    "print(\"\\nSample lines from file:\")\n",
    "printLines(os.path.join(corpus, formatted_data))         "
   ]
  },
  {
   "attachments": {},
   "cell_type": "markdown",
   "metadata": {},
   "source": [
    "#### 3.2 Data Analysis"
   ]
  },
  {
   "attachments": {},
   "cell_type": "markdown",
   "metadata": {},
   "source": [
    "Load data from *\"formatted_dialogue_lines.txt\"* file to pandas object for data analysis. Set dataframe labels, and print first 10 lines."
   ]
  },
  {
   "cell_type": "code",
   "execution_count": 11,
   "metadata": {},
   "outputs": [
    {
     "data": {
      "text/html": [
       "<div>\n",
       "<style scoped>\n",
       "    .dataframe tbody tr th:only-of-type {\n",
       "        vertical-align: middle;\n",
       "    }\n",
       "\n",
       "    .dataframe tbody tr th {\n",
       "        vertical-align: top;\n",
       "    }\n",
       "\n",
       "    .dataframe thead th {\n",
       "        text-align: right;\n",
       "    }\n",
       "</style>\n",
       "<table border=\"1\" class=\"dataframe\">\n",
       "  <thead>\n",
       "    <tr style=\"text-align: right;\">\n",
       "      <th></th>\n",
       "      <th>input</th>\n",
       "      <th>output</th>\n",
       "    </tr>\n",
       "  </thead>\n",
       "  <tbody>\n",
       "    <tr>\n",
       "      <th>0</th>\n",
       "      <td>Hello folks, please help me a bit with the fol...</td>\n",
       "      <td>the second sentence is better english   and we...</td>\n",
       "    </tr>\n",
       "    <tr>\n",
       "      <th>1</th>\n",
       "      <td>Sock Puppe?t WTF?</td>\n",
       "      <td>it's a wikipedia term.  There is Prodigy, PRDI...</td>\n",
       "    </tr>\n",
       "    <tr>\n",
       "      <th>2</th>\n",
       "      <td>is there any reason why my 'network manager' i...</td>\n",
       "      <td>probably not a vector icon</td>\n",
       "    </tr>\n",
       "    <tr>\n",
       "      <th>3</th>\n",
       "      <td>probably not a vector icon</td>\n",
       "      <td>the other icons aren't vector icons either.</td>\n",
       "    </tr>\n",
       "    <tr>\n",
       "      <th>4</th>\n",
       "      <td>I installed the 64bit version of ubuntu and I ...</td>\n",
       "      <td>i sent you a link on how to install 32 bit</td>\n",
       "    </tr>\n",
       "    <tr>\n",
       "      <th>5</th>\n",
       "      <td>ok, anyone know how I set bios password in ubu...</td>\n",
       "      <td>you'd need to set that in your BIOS.</td>\n",
       "    </tr>\n",
       "    <tr>\n",
       "      <th>6</th>\n",
       "      <td>Hello Does Ubuntu have somekind of register to...</td>\n",
       "      <td>Linux doesn't have an equivalent to the Window...</td>\n",
       "    </tr>\n",
       "    <tr>\n",
       "      <th>7</th>\n",
       "      <td>how do i generate an xorg.conf file? for intel...</td>\n",
       "      <td>'sudo xorg -configure', I think</td>\n",
       "    </tr>\n",
       "    <tr>\n",
       "      <th>8</th>\n",
       "      <td>Where does synoptic install the programs to? L...</td>\n",
       "      <td>Synaptic installs the programs to wherever the...</td>\n",
       "    </tr>\n",
       "    <tr>\n",
       "      <th>9</th>\n",
       "      <td>are there any utils that will do a repair of y...</td>\n",
       "      <td>repair in the sense? clean up of unused files ?</td>\n",
       "    </tr>\n",
       "  </tbody>\n",
       "</table>\n",
       "</div>"
      ],
      "text/plain": [
       "                                               input  \\\n",
       "0  Hello folks, please help me a bit with the fol...   \n",
       "1                                  Sock Puppe?t WTF?   \n",
       "2  is there any reason why my 'network manager' i...   \n",
       "3                         probably not a vector icon   \n",
       "4  I installed the 64bit version of ubuntu and I ...   \n",
       "5  ok, anyone know how I set bios password in ubu...   \n",
       "6  Hello Does Ubuntu have somekind of register to...   \n",
       "7  how do i generate an xorg.conf file? for intel...   \n",
       "8  Where does synoptic install the programs to? L...   \n",
       "9  are there any utils that will do a repair of y...   \n",
       "\n",
       "                                              output  \n",
       "0  the second sentence is better english   and we...  \n",
       "1  it's a wikipedia term.  There is Prodigy, PRDI...  \n",
       "2                         probably not a vector icon  \n",
       "3        the other icons aren't vector icons either.  \n",
       "4         i sent you a link on how to install 32 bit  \n",
       "5               you'd need to set that in your BIOS.  \n",
       "6  Linux doesn't have an equivalent to the Window...  \n",
       "7                    'sudo xorg -configure', I think  \n",
       "8  Synaptic installs the programs to wherever the...  \n",
       "9    repair in the sense? clean up of unused files ?  "
      ]
     },
     "execution_count": 11,
     "metadata": {},
     "output_type": "execute_result"
    }
   ],
   "source": [
    "labels  = [\"input\", \"output\"]\n",
    "df = pd.read_csv(corpus + formatted_data, sep=\"\\t\", header=None, names=labels )\n",
    "df.head(10)"
   ]
  },
  {
   "cell_type": "markdown",
   "metadata": {},
   "source": [
    "Plot input and output most used words"
   ]
  },
  {
   "cell_type": "code",
   "execution_count": 12,
   "metadata": {},
   "outputs": [
    {
     "data": {
      "image/png": "[encoded data removed]",
      "text/plain": [
       "<Figure size 576x432 with 1 Axes>"
      ]
     },
     "metadata": {
      "needs_background": "light"
     },
     "output_type": "display_data"
    },
    {
     "data": {
      "image/png": "[encoded data removed]",
      "text/plain": [
       "<Figure size 576x432 with 1 Axes>"
      ]
     },
     "metadata": {
      "needs_background": "light"
     },
     "output_type": "display_data"
    }
   ],
   "source": [
    "for label in labels:  # loop over labels\n",
    "    df_words = \" \".join(word for word in df[label])  # create list of words\n",
    "    wordcloud = WordCloud(max_font_size=50, max_words=100, background_color=\"white\").generate(df_words)  # call WordCloud to generate\n",
    "    custom_title = label.capitalize() + \" Data Word Cloud\"  # set custom title\n",
    "    plt.figure(figsize=(8,6))  # set figure size\n",
    "    plt.imshow(wordcloud, interpolation=\"bilinear\")  # set colour style\n",
    "    plt.axis(\"off\")  # disable axis\n",
    "    plt.title(custom_title)  # set custom title\n",
    "    plt.show()  # show plots\n",
    "  \n",
    "    "
   ]
  },
  {
   "attachments": {},
   "cell_type": "markdown",
   "metadata": {},
   "source": [
    "Plot input and output text length histogram. "
   ]
  },
  {
   "cell_type": "code",
   "execution_count": 13,
   "metadata": {},
   "outputs": [
    {
     "data": {
      "image/png": "[encoded data removed]",
      "text/plain": [
       "<Figure size 1008x432 with 2 Axes>"
      ]
     },
     "metadata": {
      "needs_background": "light"
     },
     "output_type": "display_data"
    }
   ],
   "source": [
    "df['input_length'] = df['input'].apply(lambda x: len(x.split(' '))) # Sum input text per row\n",
    "df['output_length'] = df['output'].apply(lambda x: len(x.split(' ')))  # Sum output text per row\n",
    "df_sum = df[['input_length', 'output_length']] # set temp df\n",
    "\n",
    "\n",
    "fig, axs = plt.subplots(1,2,figsize=(14, 6)) # create figure and axis subplot objects\n",
    "\n",
    "# Set common labels and titles\n",
    "fig.suptitle(\"Input and Output Text Length Frequency\")\n",
    "fig.text(0.5, 0.04, 'Text Length', ha='center', va='center')\n",
    "fig.text(0.06, 0.5, 'Frequency', ha='center', va='center', rotation='vertical')\n",
    "\n",
    "\n",
    "df_sum.hist(ax=axs, bins=range(5, 60, 1)); # plot histograms\n"
   ]
  },
  {
   "attachments": {},
   "cell_type": "markdown",
   "metadata": {},
   "source": [
    "Set maximum text length to consider."
   ]
  },
  {
   "cell_type": "code",
   "execution_count": 14,
   "metadata": {},
   "outputs": [],
   "source": [
    "MAX_LENGTH = 20  # Maximum text length to consider"
   ]
  },
  {
   "cell_type": "markdown",
   "metadata": {},
   "source": [
    "Plot word frequency for input and output to determine word clipping value"
   ]
  },
  {
   "cell_type": "code",
   "execution_count": 15,
   "metadata": {},
   "outputs": [
    {
     "data": {
      "image/png": "[encoded data removed]",
      "text/plain": [
       "<Figure size 432x288 with 1 Axes>"
      ]
     },
     "metadata": {
      "needs_background": "light"
     },
     "output_type": "display_data"
    }
   ],
   "source": [
    "words = df['input'].str.split(expand=True).stack().value_counts() # list of word count\n",
    "distribution = Counter(words) # count frequency in word count\n",
    "plt.axis([0, 1400, 0, 10]) # x axis to maximum and y axis clipped to 10 frequency max so lower values are visibale\n",
    "plt.title(\"Input Data Word Frequency Count\") # set custom title\n",
    "plt.grid(color='gray') # set grid colour\n",
    "plt.bar(range(len(distribution)), distribution.values()); # plot bar\n",
    "\n",
    "\n"
   ]
  },
  {
   "cell_type": "code",
   "execution_count": 16,
   "metadata": {},
   "outputs": [
    {
     "data": {
      "image/png": "[encoded data removed]",
      "text/plain": [
       "<Figure size 432x288 with 1 Axes>"
      ]
     },
     "metadata": {
      "needs_background": "light"
     },
     "output_type": "display_data"
    }
   ],
   "source": [
    "words = df['output'].str.split(expand=True).stack().value_counts() # list of word count\n",
    "distribution = Counter(words) # count frequency in word count\n",
    "plt.axis([0, 1100, 0, 10]) # x axis to maximum and y axis clipped to 10 frequency max so lower values are visibale\n",
    "plt.title(\"Output Data Word Frequency Count\") # set custom title\n",
    "plt.grid(color='gray') # set grid colour\n",
    "plt.bar(range(len(distribution)), distribution.values()); # plot bar"
   ]
  },
  {
   "attachments": {},
   "cell_type": "markdown",
   "metadata": {},
   "source": [
    "Set minimum word count threshold for trimming."
   ]
  },
  {
   "cell_type": "code",
   "execution_count": 17,
   "metadata": {},
   "outputs": [],
   "source": [
    "MIN_COUNT = 2   # Minimum word count threshold for trimming"
   ]
  },
  {
   "attachments": {},
   "cell_type": "markdown",
   "metadata": {},
   "source": [
    "### 4. Pre-Processing"
   ]
  },
  {
   "attachments": {},
   "cell_type": "markdown",
   "metadata": {},
   "source": [
    "Pre-processing code adapted from: https://pytorch.org/tutorials/beginner/chatbot_tutorial.html"
   ]
  },
  {
   "attachments": {},
   "cell_type": "markdown",
   "metadata": {},
   "source": [
    "#### 4.1 Vocabulary helper class"
   ]
  },
  {
   "attachments": {},
   "cell_type": "markdown",
   "metadata": {},
   "source": [
    "Sequences of words do not have an implicit mapping to a discrete numerical space. A vocabulary helper class is mapping each unique word in the dataset to an index value. The Voc class keeps a mapping from words to indexes, a reverse mapping of indexes to words, a count of each word and a total word count. The class provides methods for adding a word to the vocabulary (addWord), adding all words in a sentence (addSentence) and trimming infrequently seen words (trim). "
   ]
  },
  {
   "cell_type": "code",
   "execution_count": 18,
   "metadata": {},
   "outputs": [],
   "source": [
    "# Default word tokens\n",
    "PAD_token = 0  # Used for padding short sentences\n",
    "SOS_token = 1  # Start-of-sentence token\n",
    "EOS_token = 2  # End-of-sentence token\n",
    "\n",
    "class Voc:\n",
    "    def __init__(self, name):\n",
    "        self.name = name\n",
    "        self.trimmed = False\n",
    "        self.word2index = {}\n",
    "        self.word2count = {}\n",
    "        self.index2word = {PAD_token: \"PAD\", SOS_token: \"SOS\", EOS_token: \"EOS\"}\n",
    "        self.num_words = 3  # Count SOS, EOS, PAD\n",
    "\n",
    "    def addSentence(self, sentence):\n",
    "        for word in sentence.split(' '):\n",
    "            self.addWord(word)\n",
    "\n",
    "    def addWord(self, word):\n",
    "        if word not in self.word2index:\n",
    "            self.word2index[word] = self.num_words\n",
    "            self.word2count[word] = 1\n",
    "            self.index2word[self.num_words] = word\n",
    "            self.num_words += 1\n",
    "        else:\n",
    "            self.word2count[word] += 1\n",
    "\n",
    "    # Remove words below a certain count threshold\n",
    "    def trim(self, min_count):\n",
    "        if self.trimmed:\n",
    "            return\n",
    "        self.trimmed = True\n",
    "\n",
    "        keep_words = []\n",
    "\n",
    "        for k, v in self.word2count.items():\n",
    "            if v >= min_count:\n",
    "                keep_words.append(k)\n",
    "\n",
    "        print('keep_words {} / {} = {:.4f}'.format(\n",
    "            len(keep_words), len(self.word2index), len(keep_words) / len(self.word2index)\n",
    "        ))\n",
    "\n",
    "        # Reinitialize dictionaries\n",
    "        self.word2index = {}\n",
    "        self.word2count = {}\n",
    "        self.index2word = {PAD_token: \"PAD\", SOS_token: \"SOS\", EOS_token: \"EOS\"}\n",
    "        self.num_words = 3 # Count default tokens\n",
    "\n",
    "        for word in keep_words:\n",
    "            self.addWord(word)\n",
    "            "
   ]
  },
  {
   "attachments": {},
   "cell_type": "markdown",
   "metadata": {},
   "source": [
    "#### 4.2 Normalisation helper functions"
   ]
  },
  {
   "attachments": {},
   "cell_type": "markdown",
   "metadata": {},
   "source": [
    "Normalisation helper function to pre-process text:\n",
    "\n",
    "1. Convert Unicode strings to ASCII using unicodeToAscii\n",
    "2. Convert all letters to lowercase and trim all non-letter characters except for basic punctuation. Remove url, and words with .com and remove consecutive basic punctuation and keep one instance.\n",
    "3. Filter out sentences with length greater than the MAX_LENGTH threshold (filterPairs) to facilitate training convergence.\n",
    "4. main load prepare data function that is using the above."
   ]
  },
  {
   "cell_type": "code",
   "execution_count": 19,
   "metadata": {},
   "outputs": [
    {
     "name": "stdout",
     "output_type": "stream",
     "text": [
      "Start preparing training data ...\n",
      "Reading lines...\n",
      "Read 341547 sentence pairs\n",
      "Trimmed to 211971 sentence pairs\n",
      "Counting words...\n",
      "Counted words: 89698\n",
      "\n",
      "pairs:\n",
      "['sock puppe?t wtf?', 'it s a wikipedia term. there is prodigy prdigy and prgidy and they re all the same guy']\n",
      "['probably not a vector icon', 'the other icons aren t vector icons either.']\n",
      "['ok anyone know how i set bios password in ubuntu already set', 'you d need to set that in your bios.']\n",
      "['how do i generate an xorg.conf file? for intel gmas', 'sudo xorg configure i think']\n",
      "['can use a udev rule for it', 'thanks']\n",
      "['parsi chmod parsi to the file', '']\n",
      "['since jaunty is still beta all issues discussions go in ubuntu channel please', 'thnx']\n",
      "['can someone giv me a link in ubuntu wiki to install sun java', '']\n",
      "['', 'i mean running mand in terminal to get sun java. there are kinds the black and the sun']\n",
      "['itsux bu i use deskyop version shall i use server one', 'yes. postfix dovecot tend to make a decent email stack.']\n"
     ]
    }
   ],
   "source": [
    "\n",
    "\n",
    "# Turn a Unicode string to plain ASCII, thanks to\n",
    "# https://stackoverflow.com/a/518232/2809427\n",
    "def unicodeToAscii(s):\n",
    "    return ''.join(\n",
    "        c for c in unicodedata.normalize('NFD', s)\n",
    "        if unicodedata.category(c) != 'Mn'\n",
    "    )\n",
    "\n",
    "# Lowercase, trim, and remove non-letter characters\n",
    "def normalizeString(s):\n",
    "    s = unicodeToAscii(s.lower().strip()) # convert to lower and strip spaces on the start and end\n",
    "    s = re.sub(r'[\\?\\.\\!]+(?=[\\?\\.\\!])', '', s) # remove basic punctuation multiple occurencies and keep one\n",
    "    s = re.sub(r\"[^a-zA-Z.!?]+\", r\" \", s) # remove all non-letter characters except for basic punctuation\n",
    "    s = re.sub(r\"http\\S+\", \"\", s) # remove words starting with http or https\n",
    "    s = re.sub(r'\\w+.com\\s?','',s) # remove words ending with .com\n",
    "    s = re.sub(r\"\\s+\", r\" \", s).strip() # remove multiple tabs and keep one, strip spaces on the start and end\n",
    "    return s\n",
    "\n",
    "# Read query/response pairs and return a voc object\n",
    "def readVocs(datafile, corpus_name):\n",
    "    print(\"Reading lines...\")\n",
    "    # Read the file and split into lines\n",
    "    lines = open(datafile, encoding='utf-8').\\\n",
    "        read().strip().split('\\n')\n",
    "    # Split every line into pairs and normalize\n",
    "    pairs = [[normalizeString(s) for s in l.split('\\t')] for l in lines]\n",
    "    voc = Voc(corpus_name)\n",
    "    return voc, pairs\n",
    "\n",
    "# Returns True if both sentences in a pair 'p' are under the MAX_LENGTH threshold\n",
    "def filterPair(p, max_length):\n",
    "    # Input sequences need to preserve the last word for EOS token\n",
    "    return len(p[0].split(' ')) < max_length and len(p[1].split(' ')) < max_length\n",
    "\n",
    "# Filter pairs using filterPair condition\n",
    "def filterPairs(pairs, max_length):\n",
    "    return [pair for pair in pairs if filterPair(pair, max_length)]\n",
    "\n",
    "# Using the functions defined above, return a populated voc object and pairs list\n",
    "def loadPrepareData(corpus, corpus_name, datafile, max_length):\n",
    "    print(\"Start preparing training data ...\")\n",
    "    voc, pairs = readVocs(datafile, corpus_name)\n",
    "    print(\"Read {!s} sentence pairs\".format(len(pairs)))\n",
    "    pairs = filterPairs(pairs, max_length)\n",
    "    print(\"Trimmed to {!s} sentence pairs\".format(len(pairs)))\n",
    "    print(\"Counting words...\")\n",
    "    for pair in pairs:\n",
    "        voc.addSentence(pair[0])\n",
    "        voc.addSentence(pair[1])\n",
    "    print(\"Counted words:\", voc.num_words)\n",
    "    return voc, pairs\n",
    "\n",
    "# Load/Assemble voc and pairs\n",
    "voc, pairs = loadPrepareData(corpus, corpus_name, datafile, MAX_LENGTH)\n",
    "# Print some pairs to validate\n",
    "print(\"\\npairs:\")\n",
    "for pair in pairs[:10]:\n",
    "    print(pair)"
   ]
  },
  {
   "attachments": {},
   "cell_type": "markdown",
   "metadata": {},
   "source": [
    "For faster convergence during training, rare words are trimed out of the vocabulary using the *MIN_COUNT* threshold set on section **3.2 Data Analysis** . First call the *voc.trim* function and then filter out the pairs with trimmed words. Finally split data to train, validation, and test sets."
   ]
  },
  {
   "cell_type": "code",
   "execution_count": 20,
   "metadata": {},
   "outputs": [
    {
     "name": "stdout",
     "output_type": "stream",
     "text": [
      "keep_words 42367 / 89695 = 0.4723\n",
      "Trimmed from 211971 pairs to 172267, 0.8127 of total\n",
      "['probably not a vector icon', 'the other icons aren t vector icons either.']\n",
      "['ok anyone know how i set bios password in ubuntu already set', 'you d need to set that in your bios.']\n",
      "['can use a udev rule for it', 'thanks']\n",
      "['since jaunty is still beta all issues discussions go in ubuntu channel please', 'thnx']\n",
      "['once you get nfs set up it is transparent', 'yeah i know. but it s a pita trying to keep my uid gid s in sync']\n",
      "['they ve been replaced by dejavu fonts', 'cool! thank you.']\n",
      "['can t you alt middle click and resize them?', 'that doesn t work for me']\n",
      "['can someone help me print from a wireless printer using . ?', 'is the wireless printer already set up? does it have an ip and can you ping it?']\n",
      "['is the wireless printer already set up? does it have an ip and can you ping it?', 'its my dads ive never used it before. it works for him so i think its all set up']\n",
      "['against the upgrade tool', 'thanks']\n"
     ]
    }
   ],
   "source": [
    "def trimRareWords(voc, pairs, MIN_COUNT):\n",
    "    # Trim words used under the MIN_COUNT from the voc\n",
    "    voc.trim(MIN_COUNT)\n",
    "    # Filter out pairs with trimmed words\n",
    "    keep_pairs = []\n",
    "    for pair in pairs:\n",
    "        input_sentence = pair[0]\n",
    "        output_sentence = pair[1]\n",
    "        keep_input = True\n",
    "        keep_output = True\n",
    "        # Check input sentence\n",
    "        for word in input_sentence.split(' '):\n",
    "            if word not in voc.word2index or len(word) < 1:\n",
    "                keep_input = False\n",
    "                break\n",
    "        # Check output sentence\n",
    "        for word in output_sentence.split(' '):\n",
    "            if word not in voc.word2index or len(word) < 1:\n",
    "                keep_output = False\n",
    "                break\n",
    "\n",
    "        # Only keep pairs that do not contain trimmed word(s) in their input or output sentence\n",
    "        if keep_input and keep_output:\n",
    "            keep_pairs.append(pair)\n",
    "\n",
    "    print(\"Trimmed from {} pairs to {}, {:.4f} of total\".format(len(pairs), len(keep_pairs), len(keep_pairs) / len(pairs)))\n",
    "    return keep_pairs\n",
    "\n",
    "\n",
    "# Trim voc and pairs\n",
    "pairs = trimRareWords(voc, pairs, MIN_COUNT)\n",
    "for pair in pairs[:10]:\n",
    "    print(pair)"
   ]
  },
  {
   "cell_type": "code",
   "execution_count": 21,
   "metadata": {},
   "outputs": [
    {
     "name": "stdout",
     "output_type": "stream",
     "text": [
      "['probably not a vector icon', 'the other icons aren t vector icons either.']\n",
      "['ok anyone know how i set bios password in ubuntu already set', 'you d need to set that in your bios.']\n",
      "['can use a udev rule for it', 'thanks']\n",
      "['since jaunty is still beta all issues discussions go in ubuntu channel please', 'thnx']\n",
      "['once you get nfs set up it is transparent', 'yeah i know. but it s a pita trying to keep my uid gid s in sync']\n",
      "['they ve been replaced by dejavu fonts', 'cool! thank you.']\n",
      "['can t you alt middle click and resize them?', 'that doesn t work for me']\n",
      "['can someone help me print from a wireless printer using . ?', 'is the wireless printer already set up? does it have an ip and can you ping it?']\n",
      "['is the wireless printer already set up? does it have an ip and can you ping it?', 'its my dads ive never used it before. it works for him so i think its all set up']\n",
      "['against the upgrade tool', 'thanks']\n"
     ]
    }
   ],
   "source": [
    "for pair in pairs[:10]:\n",
    "    print(pair)"
   ]
  },
  {
   "cell_type": "code",
   "execution_count": 22,
   "metadata": {},
   "outputs": [],
   "source": [
    "tr_value = int(len(pairs) / 100 * 80)\n",
    "val_value = int(len(pairs) / 100 * 90)"
   ]
  },
  {
   "cell_type": "code",
   "execution_count": 23,
   "metadata": {},
   "outputs": [
    {
     "name": "stdout",
     "output_type": "stream",
     "text": [
      "Train Pairs: 80% of total, Validation Pairs: 10% of total, Test Pairs: 10% of total\n"
     ]
    }
   ],
   "source": [
    "tr_idx = slice(0,tr_value)\n",
    "val_idx = slice(tr_value,val_value)\n",
    "tst_idx = slice(val_value, -1)\n",
    "\n",
    "train_pairs = pairs[:][tr_idx]\n",
    "validation_pairs = pairs[:][val_idx]\n",
    "test_pairs = pairs[:][tst_idx]\n",
    "\n",
    "print(\"Train Pairs: {:.0%} of total, Validation Pairs: {:.0%} of total, Test Pairs: {:.0%} of total\".format(len(train_pairs) / len(pairs), len(validation_pairs) / len(pairs), len(test_pairs) / len(pairs)))"
   ]
  },
  {
   "attachments": {},
   "cell_type": "markdown",
   "metadata": {},
   "source": [
    "#### 4.3 Embedding, Padding, Mini-Batches"
   ]
  },
  {
   "attachments": {},
   "cell_type": "markdown",
   "metadata": {},
   "source": [
    "Using mini-batches heps to speed up training and also leverage GPU parallelization capabilities.\n",
    "\n",
    "Using mini-batches also means that we must be mindful of the variation of sentence length in our batches. To accommodate sentences of different sizes in the same batch, we will make our batched input tensor of shape (max_length, batch_size), where sentences shorter than the max_length are zero padded after an EOS_token.\n",
    "\n",
    "If we simply convert our English sentences to tensors by converting words to their indexes(indexesFromSentence) and zero-pad, our tensor would have shape (batch_size, max_length) and indexing the first dimension would return a full sequence across all time-steps. However, we need to be able to index our batch along time, and across all sequences in the batch. Therefore, we transpose our input batch shape to (max_length, batch_size), so that indexing across the first dimension returns a time step across all sentences in the batch. We handle this transpose implicitly in the zeroPadding function.\n",
    "\n",
    "\n",
    "The inputVar function handles the process of converting sentences to tensor, ultimately creating a correctly shaped zero-padded tensor. It also returns a tensor of lengths for each of the sequences in the batch which will be passed to our decoder later.\n",
    "\n",
    "The outputVar function performs a similar function to inputVar, but instead of returning a lengths tensor, it returns a binary mask tensor and a maximum target sentence length. The binary mask tensor has the same shape as the output target tensor, but every element that is a PAD_token is 0 and all others are 1.\n",
    "\n",
    "batch2TrainData simply takes a bunch of pairs and returns the input and target tensors using the aforementioned functions."
   ]
  },
  {
   "cell_type": "code",
   "execution_count": 24,
   "metadata": {},
   "outputs": [
    {
     "name": "stdout",
     "output_type": "stream",
     "text": [
      "input_variable: tensor([[   29, 38744,    33,  7350,   560],\n",
      "        [  120,   437,    42,   614,   310],\n",
      "        [ 1851,   226,   154,   110,    17],\n",
      "        [  351,   142,    33,   127,  1026],\n",
      "        [   38,  6296, 17884,  1994,     2],\n",
      "        [ 2723,    37,   154,  4507,     0],\n",
      "        [ 1438,  1215,     2,     2,     0],\n",
      "        [   13,     2,     0,     0,     0],\n",
      "        [  490,     0,     0,     0,     0],\n",
      "        [  731,     0,     0,     0,     0],\n",
      "        [   17,     0,     0,     0,     0],\n",
      "        [ 7851,     0,     0,     0,     0],\n",
      "        [ 9365,     0,     0,     0,     0],\n",
      "        [   32,     0,     0,     0,     0],\n",
      "        [  163,     0,     0,     0,     0],\n",
      "        [  490,     0,     0,     0,     0],\n",
      "        [   89,     0,     0,     0,     0],\n",
      "        [  167,     0,     0,     0,     0],\n",
      "        [    2,     0,     0,     0,     0]])\n",
      "lengths: tensor([19,  8,  7,  7,  5])\n",
      "target_variable: tensor([[  168,   226,  4021,    11,   140],\n",
      "        [   21,   403,     2,     5,   310],\n",
      "        [25544,    37,     0,   220,    44],\n",
      "        [    2,    33,     0,  9320,     2],\n",
      "        [    0,    57,     0,  1357,     0],\n",
      "        [    0,     5,     0,    40,     0],\n",
      "        [    0, 16677,     0,   423,     0],\n",
      "        [    0,    43,     0,    27,     0],\n",
      "        [    0,   142,     0,    89,     0],\n",
      "        [    0,   265,     0,    43,     0],\n",
      "        [    0,   403,     0,   542,     0],\n",
      "        [    0,    37,     0,    13,     0],\n",
      "        [    0,    11,     0, 10365,     0],\n",
      "        [    0,   309,     0,   138,     0],\n",
      "        [    0,    43,     0,    40,     0],\n",
      "        [    0,   626,     0,    91,     0],\n",
      "        [    0,  1301,     0, 22267,     0],\n",
      "        [    0,     2,     0,     2,     0]])\n",
      "mask: tensor([[ True,  True,  True,  True,  True],\n",
      "        [ True,  True,  True,  True,  True],\n",
      "        [ True,  True, False,  True,  True],\n",
      "        [ True,  True, False,  True,  True],\n",
      "        [False,  True, False,  True, False],\n",
      "        [False,  True, False,  True, False],\n",
      "        [False,  True, False,  True, False],\n",
      "        [False,  True, False,  True, False],\n",
      "        [False,  True, False,  True, False],\n",
      "        [False,  True, False,  True, False],\n",
      "        [False,  True, False,  True, False],\n",
      "        [False,  True, False,  True, False],\n",
      "        [False,  True, False,  True, False],\n",
      "        [False,  True, False,  True, False],\n",
      "        [False,  True, False,  True, False],\n",
      "        [False,  True, False,  True, False],\n",
      "        [False,  True, False,  True, False],\n",
      "        [False,  True, False,  True, False]])\n",
      "max_target_len: 18\n"
     ]
    }
   ],
   "source": [
    "def indexesFromSentence(voc, sentence):\n",
    "    return [voc.word2index[word] for word in sentence.split(' ')] + [EOS_token]\n",
    "\n",
    "\n",
    "def zeroPadding(l, fillvalue=PAD_token):\n",
    "    return list(itertools.zip_longest(*l, fillvalue=fillvalue))\n",
    "\n",
    "def binaryMatrix(l, value=PAD_token):\n",
    "    m = []\n",
    "    for i, seq in enumerate(l):\n",
    "        m.append([])\n",
    "        for token in seq:\n",
    "            if token == PAD_token:\n",
    "                m[i].append(0)\n",
    "            else:\n",
    "                m[i].append(1)\n",
    "    return m\n",
    "\n",
    "# Returns padded input sequence tensor and lengths\n",
    "def inputVar(l, voc):\n",
    "    indexes_batch = [indexesFromSentence(voc, sentence) for sentence in l]\n",
    "    lengths = torch.tensor([len(indexes) for indexes in indexes_batch])\n",
    "    padList = zeroPadding(indexes_batch)\n",
    "    padVar = torch.LongTensor(padList)\n",
    "    return padVar, lengths\n",
    "\n",
    "# Returns padded target sequence tensor, padding mask, and max target length\n",
    "def outputVar(l, voc):\n",
    "    indexes_batch = [indexesFromSentence(voc, sentence) for sentence in l]\n",
    "    max_target_len = max([len(indexes) for indexes in indexes_batch])\n",
    "    padList = zeroPadding(indexes_batch)\n",
    "    mask = binaryMatrix(padList)\n",
    "    mask = torch.BoolTensor(mask)\n",
    "    padVar = torch.LongTensor(padList)\n",
    "    return padVar, mask, max_target_len\n",
    "\n",
    "    \n",
    "\n",
    "# Returns all items for a given batch of pairs\n",
    "def batch2TrainData(voc, pair_batch):\n",
    "    pair_batch.sort(key=lambda x: len(x[0].split(\" \")), reverse=True)\n",
    "    input_batch, output_batch = [], []\n",
    "    for pair in pair_batch:\n",
    "        input_batch.append(pair[0])\n",
    "        output_batch.append(pair[1])\n",
    "    inp, lengths = inputVar(input_batch, voc)\n",
    "    output, mask, max_target_len = outputVar(output_batch, voc)\n",
    "    return inp, lengths, output, mask, max_target_len\n",
    "\n",
    "\n",
    "\n",
    "\n",
    "# Example for validation\n",
    "small_batch_size = 5\n",
    "batches = batch2TrainData(voc, [random.choice(pairs) for _ in range(small_batch_size)])\n",
    "input_variable, lengths, target_variable, mask, max_target_len = batches\n",
    "\n",
    "print(\"input_variable:\", input_variable)\n",
    "print(\"lengths:\", lengths)\n",
    "print(\"target_variable:\", target_variable)\n",
    "print(\"mask:\", mask)\n",
    "print(\"max_target_len:\", max_target_len)\n"
   ]
  },
  {
   "cell_type": "code",
   "execution_count": null,
   "metadata": {},
   "outputs": [],
   "source": []
  },
  {
   "attachments": {},
   "cell_type": "markdown",
   "metadata": {},
   "source": [
    "### 5. Seq2Seq Model"
   ]
  },
  {
   "attachments": {},
   "cell_type": "markdown",
   "metadata": {},
   "source": [
    "The goal of a seq2seq model is to take a variable-length sequence as an input, and return a variable-length sequence as an output using a fixed-sized model.\n",
    "\n",
    "Seq2seq code adapted from: https://pytorch.org/tutorials/beginner/chatbot_tutorial.html"
   ]
  },
  {
   "attachments": {},
   "cell_type": "markdown",
   "metadata": {},
   "source": [
    "#### 5.1 Encoder class"
   ]
  },
  {
   "attachments": {},
   "cell_type": "markdown",
   "metadata": {},
   "source": [
    "The encoder RNN iterates through the input sentence one token (e.g. word) at a time, at each time step outputting an “output” vector and a “hidden state” vector. The hidden state vector is then passed to the next time step, while the output vector is recorded. The encoder transforms the context it saw at each point in the sequence into a set of points in a high-dimensional space, which the decoder will use to generate a meaningful output for the given task. The encoder is using multi-layered Gated Recurrent Unit (GRU), invented by [Cho *et al.*](https://arxiv.org/pdf/1406.1078v3.pdf) (2014). We will use a bidirectional variant of the GRU."
   ]
  },
  {
   "cell_type": "code",
   "execution_count": 25,
   "metadata": {},
   "outputs": [],
   "source": [
    "class EncoderRNN(nn.Module):\n",
    "    def __init__(self, hidden_size, embedding, n_layers=1, dropout=0):\n",
    "        super(EncoderRNN, self).__init__()\n",
    "        self.n_layers = n_layers\n",
    "        self.hidden_size = hidden_size\n",
    "        self.embedding = embedding\n",
    "\n",
    "        # Initialize GRU; the input_size and hidden_size params are both set to 'hidden_size'\n",
    "        #   because our input size is a word embedding with number of features == hidden_size\n",
    "        self.gru = nn.GRU(hidden_size, hidden_size, n_layers,\n",
    "                          dropout=(0 if n_layers == 1 else dropout), bidirectional=True)\n",
    "\n",
    "    def forward(self, input_seq, input_lengths, hidden=None):\n",
    "        # Convert word indexes to embeddings\n",
    "        embedded = self.embedding(input_seq)\n",
    "        # Pack padded batch of sequences for RNN module\n",
    "        packed = nn.utils.rnn.pack_padded_sequence(embedded, input_lengths)\n",
    "        # Forward pass through GRU\n",
    "        outputs, hidden = self.gru(packed, hidden)\n",
    "        # Unpack padding\n",
    "        outputs, _ = nn.utils.rnn.pad_packed_sequence(outputs)\n",
    "        # Sum bidirectional GRU outputs\n",
    "        outputs = outputs[:, :, :self.hidden_size] + outputs[:, : ,self.hidden_size:]\n",
    "        # Return output and final hidden state\n",
    "        return outputs, hidden"
   ]
  },
  {
   "attachments": {},
   "cell_type": "markdown",
   "metadata": {},
   "source": [
    "#### 5.2 Luong attention class"
   ]
  },
  {
   "attachments": {},
   "cell_type": "markdown",
   "metadata": {},
   "source": [
    "[Luong *et al.*](https://arxiv.org/abs/1508.04025) (2015) improved upon [Bahdanau *et al.*](https://arxiv.org/abs/1409.0473) (2014) groundwork by creating “Global attention”. The key difference is that with “Global attention”, we consider all of the encoder’s hidden states, as opposed to [Bahdanau *et al.*](https://arxiv.org/abs/1409.0473) (2014) “Local attention”, which only considers the encoder’s hidden state from the current time step. Another difference is that with “Global attention”, we calculate attention weights, or energies, using the hidden state of the decoder from the current time step only. [Bahdanau *et al.*](https://arxiv.org/abs/1409.0473) (2014) attention calculation requires knowledge of the decoder’s state from the previous time step. Also, [Luong *et al.*](https://arxiv.org/abs/1508.04025) (2015) provides various methods to calculate the attention energies between the encoder output and decoder output which are called “score functions”."
   ]
  },
  {
   "cell_type": "code",
   "execution_count": 26,
   "metadata": {},
   "outputs": [],
   "source": [
    "# Luong attention layer\n",
    "class Attn(nn.Module):\n",
    "    def __init__(self, method, hidden_size):\n",
    "        super(Attn, self).__init__()\n",
    "        self.method = method\n",
    "        if self.method not in ['dot', 'general', 'concat']:\n",
    "            raise ValueError(self.method, \"is not an appropriate attention method.\")\n",
    "        self.hidden_size = hidden_size\n",
    "        if self.method == 'general':\n",
    "            self.attn = nn.Linear(self.hidden_size, hidden_size)\n",
    "        elif self.method == 'concat':\n",
    "            self.attn = nn.Linear(self.hidden_size * 2, hidden_size)\n",
    "            self.v = nn.Parameter(torch.FloatTensor(hidden_size))\n",
    "\n",
    "    def dot_score(self, hidden, encoder_output):\n",
    "        return torch.sum(hidden * encoder_output, dim=2)\n",
    "\n",
    "    def general_score(self, hidden, encoder_output):\n",
    "        energy = self.attn(encoder_output)\n",
    "        return torch.sum(hidden * energy, dim=2)\n",
    "\n",
    "    def concat_score(self, hidden, encoder_output):\n",
    "        energy = self.attn(torch.cat((hidden.expand(encoder_output.size(0), -1, -1), encoder_output), 2)).tanh()\n",
    "        return torch.sum(self.v * energy, dim=2)\n",
    "\n",
    "    def forward(self, hidden, encoder_outputs):\n",
    "        # Calculate the attention weights (energies) based on the given method\n",
    "        if self.method == 'general':\n",
    "            attn_energies = self.general_score(hidden, encoder_outputs)\n",
    "        elif self.method == 'concat':\n",
    "            attn_energies = self.concat_score(hidden, encoder_outputs)\n",
    "        elif self.method == 'dot':\n",
    "            attn_energies = self.dot_score(hidden, encoder_outputs)\n",
    "\n",
    "        # Transpose max_length and batch_size dimensions\n",
    "        attn_energies = attn_energies.t()\n",
    "\n",
    "        # Return the softmax normalized probability scores (with added dimension)\n",
    "        return F.softmax(attn_energies, dim=1).unsqueeze(1)"
   ]
  },
  {
   "attachments": {},
   "cell_type": "markdown",
   "metadata": {},
   "source": [
    "#### 5.3 Decoder class"
   ]
  },
  {
   "attachments": {},
   "cell_type": "markdown",
   "metadata": {},
   "source": [
    "The decoder RNN generates the response sentence in a token-by-token fashion. It uses the encoder’s context vectors, and internal hidden states to generate the next word in the sequence. It continues generating words until it outputs an EOS_token, representing the end of the sentence. For the decoder, we will manually feed our batch one time step at a time. This means that our embedded word tensor and GRU output will both have shape (1, batch_size, hidden_size)."
   ]
  },
  {
   "cell_type": "code",
   "execution_count": 27,
   "metadata": {},
   "outputs": [],
   "source": [
    "class DecoderRNN(nn.Module):\n",
    "    def __init__(self, attn_model, embedding, hidden_size, output_size, n_layers=1, dropout=0.1):\n",
    "        super(DecoderRNN, self).__init__()\n",
    "\n",
    "        # Keep for reference\n",
    "        self.attn_model = attn_model\n",
    "        self.hidden_size = hidden_size\n",
    "        self.output_size = output_size\n",
    "        self.n_layers = n_layers\n",
    "        self.dropout = dropout\n",
    "\n",
    "        # Define layers\n",
    "        self.embedding = embedding\n",
    "        self.embedding_dropout = nn.Dropout(dropout)\n",
    "        self.gru = nn.GRU(hidden_size, hidden_size, n_layers, dropout=(0 if n_layers == 1 else dropout))\n",
    "        self.concat = nn.Linear(hidden_size * 2, hidden_size)\n",
    "        self.out = nn.Linear(hidden_size, output_size)\n",
    "        \n",
    "        if self.attn_model != \"none\":\n",
    "            self.attn = Attn(attn_model, hidden_size)   \n",
    "\n",
    "    def forward(self, input_step, last_hidden, encoder_outputs):\n",
    "        # Note: we run this one step (word) at a time\n",
    "        # Get embedding of current input word\n",
    "        embedded = self.embedding(input_step)\n",
    "        embedded = self.embedding_dropout(embedded)\n",
    "        # Forward through unidirectional GRU\n",
    "        rnn_output, hidden = self.gru(embedded, last_hidden)\n",
    "        rnn_output = rnn_output.squeeze(0)\n",
    "        \n",
    "        if self.attn_model != \"none\":\n",
    "            # Calculate attention weights from the current GRU output\n",
    "            attn_weights = self.attn(rnn_output, encoder_outputs)\n",
    "            # Multiply attention weights to encoder outputs to get new \"weighted sum\" context vector\n",
    "            context = attn_weights.bmm(encoder_outputs.transpose(0, 1))\n",
    "            # Concatenate weighted context vector and GRU output using Luong eq. 5\n",
    "            context = context.squeeze(1)\n",
    "            concat_input = torch.cat((rnn_output, context), 1)\n",
    "            concat_output = torch.tanh(self.concat(concat_input))\n",
    "            # Predict next word using Luong eq. 6\n",
    "            output = self.out(concat_output)\n",
    "        else:\n",
    "            output = self.out(rnn_output)\n",
    "\n",
    "        output = F.softmax(output, dim=1)\n",
    "\n",
    "        # Return output and final hidden state\n",
    "        return output, hidden"
   ]
  },
  {
   "attachments": {},
   "cell_type": "markdown",
   "metadata": {},
   "source": [
    "### 6 Model Training Procedure"
   ]
  },
  {
   "attachments": {},
   "cell_type": "markdown",
   "metadata": {},
   "source": [
    "#### 6.1 Masked loss"
   ]
  },
  {
   "attachments": {},
   "cell_type": "markdown",
   "metadata": {},
   "source": [
    "Since we are dealing with batches of padded sequences, we cannot simply consider all elements of the tensor when calculating loss. We define maskNLLLoss to calculate our loss based on our decoder’s output tensor, the target tensor, and a binary mask tensor describing the padding of the target tensor. This loss function calculates the average negative log likelihood of the elements that correspond to a 1 in the mask tensor."
   ]
  },
  {
   "cell_type": "code",
   "execution_count": 28,
   "metadata": {},
   "outputs": [],
   "source": [
    "def maskNLLLoss(inp, target, mask):\n",
    "    nTotal = mask.sum()\n",
    "    crossEntropy = -torch.log(torch.gather(inp, 1, target.view(-1, 1)).squeeze(1))\n",
    "    loss = crossEntropy.masked_select(mask).mean()\n",
    "    loss = loss.to(device)\n",
    "    return loss, nTotal.item()"
   ]
  },
  {
   "attachments": {},
   "cell_type": "markdown",
   "metadata": {},
   "source": [
    "#### 6.2 Train function"
   ]
  },
  {
   "attachments": {},
   "cell_type": "markdown",
   "metadata": {},
   "source": [
    "The train function contains the algorithm for a single training iteration (a single batch of inputs).\n",
    "\n",
    "We will use a couple of clever tricks to aid in convergence:\n",
    "\n",
    "The first trick is using teacher forcing. This means that at some probability, set by teacher_forcing_ratio, we use the current target word as the decoder’s next input rather than using the decoder’s current guess. This technique acts as training wheels for the decoder, aiding in more efficient training. However, teacher forcing can lead to model instability during inference, as the decoder may not have a sufficient chance to truly craft its own output sequences during training. Thus, we must be mindful of how we are setting the teacher_forcing_ratio, and not be fooled by fast convergence.\n",
    "The second trick that we implement is gradient clipping. This is a commonly used technique for countering the “exploding gradient” problem. In essence, by clipping or thresholding gradients to a maximum value, we prevent the gradients from growing exponentially and either overflow (NaN), or overshoot steep cliffs in the cost function."
   ]
  },
  {
   "cell_type": "code",
   "execution_count": 29,
   "metadata": {},
   "outputs": [],
   "source": [
    "def train(input_variable, lengths, target_variable, mask, max_target_len, encoder, decoder, embedding,\n",
    "          encoder_optimizer, decoder_optimizer, batch_size, clip, teacher_forcing_ratio,max_length=MAX_LENGTH):\n",
    "\n",
    "    # Zero gradients\n",
    "    encoder_optimizer.zero_grad()\n",
    "    decoder_optimizer.zero_grad()\n",
    "    \n",
    "\n",
    "    # Set device options\n",
    "    input_variable = input_variable.to(device)\n",
    "    target_variable = target_variable.to(device)\n",
    "    mask = mask.to(device)\n",
    "    # Lengths for rnn packing should always be on the cpu\n",
    "    lengths = lengths.to(\"cpu\")\n",
    "\n",
    "    # Initialize variables\n",
    "    loss = 0\n",
    "    print_losses = []\n",
    "    n_totals = 0\n",
    "\n",
    "    # Forward pass through encoder\n",
    "    encoder_outputs, encoder_hidden = encoder(input_variable, lengths)\n",
    "\n",
    "    # Create initial decoder input (start with SOS tokens for each sentence)\n",
    "    decoder_input = torch.LongTensor([[SOS_token for _ in range(batch_size)]])\n",
    "    decoder_input = decoder_input.to(device)\n",
    "\n",
    "    # Set initial decoder hidden state to the encoder's final hidden state\n",
    "    decoder_hidden = encoder_hidden[:decoder.n_layers]\n",
    "    \n",
    "\n",
    "    # Determine if we are using teacher forcing this iteration\n",
    "    use_teacher_forcing = True if random.random() < teacher_forcing_ratio else False\n",
    "\n",
    "    # Forward batch of sequences through decoder one time step at a time\n",
    "    if use_teacher_forcing:\n",
    "        for t in range(max_target_len):\n",
    "            decoder_output, decoder_hidden = decoder(\n",
    "                decoder_input, decoder_hidden, encoder_outputs\n",
    "            )\n",
    "            # Teacher forcing: next input is current target\n",
    "            decoder_input = target_variable[t].view(1, -1)\n",
    "            # Calculate and accumulate loss\n",
    "            mask_loss, nTotal = maskNLLLoss(decoder_output, target_variable[t], mask[t])\n",
    "            loss += mask_loss\n",
    "            print_losses.append(mask_loss.item() * nTotal)\n",
    "            n_totals += nTotal\n",
    "    else:\n",
    "        for t in range(max_target_len):\n",
    "            decoder_output, decoder_hidden = decoder(\n",
    "                decoder_input, decoder_hidden, encoder_outputs\n",
    "            )\n",
    "            # No teacher forcing: next input is decoder's own current output\n",
    "            _, topi = decoder_output.topk(1)\n",
    "            decoder_input = torch.LongTensor([[topi[i][0] for i in range(batch_size)]])\n",
    "            decoder_input = decoder_input.to(device)\n",
    "            # Calculate and accumulate loss\n",
    "            mask_loss, nTotal = maskNLLLoss(decoder_output, target_variable[t], mask[t])\n",
    "            loss += mask_loss\n",
    "            print_losses.append(mask_loss.item() * nTotal)\n",
    "            n_totals += nTotal\n",
    "\n",
    "\n",
    "    # Perform backpropatation\n",
    "    loss.backward()\n",
    "\n",
    "    # Clip gradients: gradients are modified in place\n",
    "    _ = nn.utils.clip_grad_norm_(encoder.parameters(), clip)\n",
    "    _ = nn.utils.clip_grad_norm_(decoder.parameters(), clip)\n",
    "\n",
    "    # Adjust model weights\n",
    "    encoder_optimizer.step()\n",
    "    decoder_optimizer.step()\n",
    "\n",
    "    return sum(print_losses) / n_totals"
   ]
  },
  {
   "cell_type": "code",
   "execution_count": 30,
   "metadata": {},
   "outputs": [],
   "source": [
    "def validate(input_variable, lengths, target_variable, mask, max_target_len, encoder, decoder, embedding,\n",
    "     batch_size, max_length=MAX_LENGTH):\n",
    "     \n",
    "\n",
    "    # Set dropout layers to eval mode\n",
    "    encoder.eval()\n",
    "    decoder.eval()\n",
    "\n",
    "    # Set device options\n",
    "    input_variable = input_variable.to(device)\n",
    "    target_variable = target_variable.to(device)\n",
    "    mask = mask.to(device)\n",
    "    # Lengths for rnn packing should always be on the cpu\n",
    "    lengths = lengths.to(\"cpu\")\n",
    "\n",
    "    # Initialize variables\n",
    "    loss = 0\n",
    "    print_losses = []\n",
    "    n_totals = 0\n",
    "\n",
    "    # Forward pass through encoder\n",
    "    encoder_outputs, encoder_hidden = encoder(input_variable, lengths)\n",
    "\n",
    "    # Create initial decoder input (start with SOS tokens for each sentence)\n",
    "    decoder_input = torch.LongTensor([[SOS_token for _ in range(batch_size)]])\n",
    "    decoder_input = decoder_input.to(device)\n",
    "\n",
    "    # Set initial decoder hidden state to the encoder's final hidden state\n",
    "    decoder_hidden = encoder_hidden[:decoder.n_layers]\n",
    "    \n",
    "\n",
    "    # Disable teacher forcing\n",
    "    use_teacher_forcing = False\n",
    "\n",
    "    # Forward batch of sequences through decoder one time step at a time\n",
    "\n",
    "    for t in range(max_target_len):\n",
    "        decoder_output, decoder_hidden = decoder(\n",
    "            decoder_input, decoder_hidden, encoder_outputs\n",
    "        )\n",
    "        # No teacher forcing: next input is decoder's own current output\n",
    "        _, topi = decoder_output.topk(1)\n",
    "        decoder_input = torch.LongTensor([[topi[i][0] for i in range(batch_size)]])\n",
    "        decoder_input = decoder_input.to(device)\n",
    "        # Calculate and accumulate loss\n",
    "        mask_loss, nTotal = maskNLLLoss(decoder_output, target_variable[t], mask[t])\n",
    "        loss += mask_loss\n",
    "        print_losses.append(mask_loss.item() * nTotal)\n",
    "        n_totals += nTotal\n",
    "\n",
    "    # Set dropout layers back to train mode\n",
    "    encoder.train()\n",
    "    decoder.train()    \n",
    "\n",
    "    return sum(print_losses) / n_totals"
   ]
  },
  {
   "attachments": {},
   "cell_type": "markdown",
   "metadata": {},
   "source": [
    "#### 6.3 Training iterations"
   ]
  },
  {
   "attachments": {},
   "cell_type": "markdown",
   "metadata": {},
   "source": [
    "The trainIters function is responsible for running n_iterations of training given the passed models, optimizers, data, etc. This function is quite self explanatory, as we have done the heavy lifting with the train function.\n",
    "\n",
    "One thing to note is that when we save our model, we save a tarball containing the encoder and decoder state_dicts (parameters), the optimizers’ state_dicts, the loss, the iteration, etc. Saving the model in this way will give us the ultimate flexibility with the checkpoint. After loading a checkpoint, we will be able to use the model parameters to run inference, or we can continue training right where we left off."
   ]
  },
  {
   "cell_type": "code",
   "execution_count": 31,
   "metadata": {},
   "outputs": [],
   "source": [
    "def showPlot(points):\n",
    "    plt.figure()\n",
    "    fig, ax = plt.subplots()\n",
    "    # this locator puts ticks at regular intervals\n",
    "    loc = ticker.MultipleLocator(base=0.2)\n",
    "    ax.yaxis.set_major_locator(loc)\n",
    "    plt.plot(points)\n",
    "\n",
    "\n",
    "\n",
    "def trainIters(model_name, voc, train_pairs, validation_pairs, encoder, decoder, encoder_optimizer, decoder_optimizer, embedding, encoder_n_layers, decoder_n_layers, hidden_size, save_dir, n_iteration, batch_size, validate_every, clip, corpus_name, teacher_forcing_ratio):\n",
    "\n",
    "    # Load batches for each  iteration\n",
    "    training_batches = [batch2TrainData(voc, [random.choice(train_pairs) for _ in range(batch_size)])\n",
    "                      for _ in range(n_iteration)]\n",
    "\n",
    "    validation_batches = [batch2TrainData(voc, [random.choice(validation_pairs) for _ in range(batch_size)])\n",
    "                      for _ in range(n_iteration)]                  \n",
    "\n",
    "    # Initializations\n",
    "    start_iteration = 1\n",
    "    print_loss = 0\n",
    "    valid_print_loss = 0\n",
    "    plot_losses = []\n",
    "    best_valid_loss = float('inf')\n",
    "    valid_loss = 0\n",
    "\n",
    "    # Training loop\n",
    "    for iteration in range(start_iteration, n_iteration + 1):\n",
    "        training_batch = training_batches[iteration - 1]\n",
    "        # Extract fields from batch\n",
    "        input_variable, lengths, target_variable, mask, max_target_len = training_batch\n",
    "\n",
    "        # Run a training iteration with batch\n",
    "        loss = train(input_variable, lengths, target_variable, mask, max_target_len, encoder,\n",
    "                   decoder, embedding, encoder_optimizer, decoder_optimizer,batch_size, clip, teacher_forcing_ratio)\n",
    "        print_loss += loss\n",
    "        \n",
    "        if iteration % validate_every == 0:\n",
    "            # Print progress\n",
    "            print_loss_avg = print_loss / validate_every\n",
    "            # Append loss to plot\n",
    "            plot_losses.append(print_loss_avg)\n",
    "            print_loss = 0\n",
    "\n",
    "            validation_batch = validation_batches[iteration - 1]\n",
    "            input_variable, lengths, target_variable, mask, max_target_len = validation_batch\n",
    "            # Run a validation iteration with batch\n",
    "            valid_loss = validate(input_variable, lengths, target_variable, mask, max_target_len, encoder,\n",
    "                        decoder, embedding, batch_size)\n",
    "            valid_print_loss += valid_loss\n",
    "\n",
    "            print_valid_loss_avg = valid_print_loss\n",
    "            valid_print_loss = 0\n",
    "\n",
    "        # Save checkpoint\n",
    "            if valid_loss < best_valid_loss:\n",
    "                best_valid_loss = valid_loss\n",
    "                directory = os.path.join(save_dir, model_name, corpus_name, '{}-{}_{}'.format(encoder_n_layers, decoder_n_layers, hidden_size))\n",
    "                if not os.path.exists(directory):\n",
    "                    os.makedirs(directory)\n",
    "                torch.save({\n",
    "                    'iteration': iteration,\n",
    "                    'en': encoder.state_dict(),\n",
    "                    'de': decoder.state_dict(),\n",
    "                    'en_opt': encoder_optimizer.state_dict(),\n",
    "                    'de_opt': decoder_optimizer.state_dict(),\n",
    "                    'loss': loss,\n",
    "                    'voc_dict': voc.__dict__,\n",
    "                    'embedding': embedding.state_dict()\n",
    "                }, os.path.join(directory, '{}_{}.tar'.format(iteration, 'checkpoint')))\n",
    "\n",
    "            print(\"Iteration: {}; Percent complete: {:.1f}%\".format(iteration, iteration / n_iteration * 100))\n",
    "            print(f'\\tTrain Loss: {print_loss_avg:.3f} | Train PPL: {math.exp(print_loss_avg):7.3f}')\n",
    "            print(f'\\t Val. Loss: {print_valid_loss_avg:.3f} |  Val. PPL: {math.exp(print_valid_loss_avg):7.3f}')    \n",
    "\n",
    "    showPlot(plot_losses)"
   ]
  },
  {
   "attachments": {},
   "cell_type": "markdown",
   "metadata": {},
   "source": [
    "#### 6.4 Greedy decoding"
   ]
  },
  {
   "attachments": {},
   "cell_type": "markdown",
   "metadata": {},
   "source": [
    "Greedy decoding is the decoding method that we use during training when we are NOT using teacher forcing. In other words, for each time step, we simply choose the word from decoder_output with the highest softmax value. This decoding method is optimal on a single time-step level."
   ]
  },
  {
   "cell_type": "code",
   "execution_count": 32,
   "metadata": {},
   "outputs": [],
   "source": [
    "class GreedySearchDecoder(nn.Module):\n",
    "    def __init__(self, encoder, decoder):\n",
    "        super(GreedySearchDecoder, self).__init__()\n",
    "        self.encoder = encoder\n",
    "        self.decoder = decoder\n",
    "\n",
    "    def forward(self, input_seq, input_length, max_length):\n",
    "        # Forward input through encoder model\n",
    "        encoder_outputs, encoder_hidden = self.encoder(input_seq, input_length)\n",
    "        # Prepare encoder's final hidden layer to be first hidden input to the decoder\n",
    "        decoder_hidden = encoder_hidden[:self.decoder.n_layers]\n",
    "        # Initialize decoder input with SOS_token\n",
    "        decoder_input = torch.ones(1, 1, dtype=torch.long) * SOS_token\n",
    "        # Initialize tensors to append decoded words to\n",
    "        all_tokens = torch.zeros([0], dtype=torch.long)\n",
    "        all_scores = torch.zeros([0])\n",
    "        # Iteratively decode one word token at a time\n",
    "        for _ in range(max_length):\n",
    "            # Forward pass through decoder\n",
    "            decoder_output, decoder_hidden = self.decoder(decoder_input, decoder_hidden, encoder_outputs)\n",
    "            # Obtain most likely word token and its softmax score\n",
    "            decoder_scores, decoder_input = torch.max(decoder_output, dim=1)\n",
    "            # Record token and score\n",
    "            all_tokens = torch.cat((all_tokens, decoder_input), dim=0)\n",
    "            all_scores = torch.cat((all_scores, decoder_scores), dim=0)\n",
    "            # Prepare current token to be next decoder input (add a dimension)\n",
    "            decoder_input = torch.unsqueeze(decoder_input, 0)\n",
    "        # Return collections of word tokens and scores\n",
    "        return all_tokens, all_scores"
   ]
  },
  {
   "attachments": {},
   "cell_type": "markdown",
   "metadata": {},
   "source": [
    "### 7. Model Tuning"
   ]
  },
  {
   "attachments": {},
   "cell_type": "markdown",
   "metadata": {},
   "source": [
    "### 7. Model Training"
   ]
  },
  {
   "attachments": {},
   "cell_type": "markdown",
   "metadata": {},
   "source": [
    "Model configuration variables and hyperparameters."
   ]
  },
  {
   "cell_type": "code",
   "execution_count": 33,
   "metadata": {},
   "outputs": [],
   "source": [
    "# Configure models\n",
    "model_names = ['RNN_With_Attention', 'RNN_Without_Attention']\n",
    "attn_model = ['dot', 'none']\n",
    "#attn_model = 'general'\n",
    "#attn_model = 'concat'\n",
    "hidden_size = 500\n",
    "encoder_n_layers = 2\n",
    "decoder_n_layers = 2\n",
    "dropout = 0.1\n",
    "batch_size = 32\n",
    "\n",
    "save_dir = os.path.join(data, \"checkpoints\")\n",
    "save_dir\n",
    "\n",
    "# Configure training/optimization\n",
    "clip = 50.0\n",
    "teacher_forcing_ratio = 1.0\n",
    "learning_rate = 0.0005\n",
    "decoder_learning_ratio = 5.0\n",
    "n_iteration = 20000\n",
    "validate_every = 5000\n",
    "\n"
   ]
  },
  {
   "cell_type": "code",
   "execution_count": 34,
   "metadata": {},
   "outputs": [
    {
     "name": "stdout",
     "output_type": "stream",
     "text": [
      "Initialising RNN With Attention ...\n",
      "Building encoder and decoder ...\n",
      "Building optimizers ...\n",
      "Started Training ...\n",
      "Iteration: 5000; Percent complete: 25.0%\n",
      "\tTrain Loss: 6.555 | Train PPL: 702.856\n",
      "\t Val. Loss: 8.034 |  Val. PPL: 3082.669\n",
      "Iteration: 10000; Percent complete: 50.0%\n",
      "\tTrain Loss: 6.003 | Train PPL: 404.814\n",
      "\t Val. Loss: 8.168 |  Val. PPL: 3524.632\n",
      "Iteration: 15000; Percent complete: 75.0%\n",
      "\tTrain Loss: 5.876 | Train PPL: 356.520\n",
      "\t Val. Loss: 8.388 |  Val. PPL: 4394.774\n",
      "Iteration: 20000; Percent complete: 100.0%\n",
      "\tTrain Loss: 5.910 | Train PPL: 368.531\n",
      "\t Val. Loss: 8.730 |  Val. PPL: 6185.391\n",
      "Initialising RNN Without Attention ...\n",
      "Building encoder and decoder ...\n",
      "Building optimizers ...\n",
      "Started Training ...\n",
      "Iteration: 5000; Percent complete: 25.0%\n",
      "\tTrain Loss: 5.276 | Train PPL: 195.622\n",
      "\t Val. Loss: 7.289 |  Val. PPL: 1464.613\n",
      "Iteration: 10000; Percent complete: 50.0%\n",
      "\tTrain Loss: 4.495 | Train PPL:  89.578\n",
      "\t Val. Loss: 8.337 |  Val. PPL: 4174.253\n",
      "Iteration: 15000; Percent complete: 75.0%\n",
      "\tTrain Loss: 4.169 | Train PPL:  64.621\n",
      "\t Val. Loss: 8.083 |  Val. PPL: 3239.801\n",
      "Iteration: 20000; Percent complete: 100.0%\n",
      "\tTrain Loss: 3.945 | Train PPL:  51.652\n",
      "\t Val. Loss: 8.542 |  Val. PPL: 5128.136\n"
     ]
    },
    {
     "data": {
      "text/plain": [
       "<Figure size 432x288 with 0 Axes>"
      ]
     },
     "metadata": {},
     "output_type": "display_data"
    },
    {
     "data": {
      "image/png": "[encoded data removed]",
      "text/plain": [
       "<Figure size 432x288 with 1 Axes>"
      ]
     },
     "metadata": {
      "needs_background": "light"
     },
     "output_type": "display_data"
    },
    {
     "data": {
      "text/plain": [
       "<Figure size 432x288 with 0 Axes>"
      ]
     },
     "metadata": {},
     "output_type": "display_data"
    },
    {
     "data": {
      "image/png": "[encoded data removed]",
      "text/plain": [
       "<Figure size 432x288 with 1 Axes>"
      ]
     },
     "metadata": {
      "needs_background": "light"
     },
     "output_type": "display_data"
    }
   ],
   "source": [
    "idx = 0\n",
    "for model_name in model_names:\n",
    "\n",
    "    print('Initialising ' + model_name.replace(\"_\", \" \") + ' ...')\n",
    "\n",
    "\n",
    "    print('Building encoder and decoder ...')\n",
    "    # Initialize word embeddings\n",
    "    embedding = nn.Embedding(voc.num_words, hidden_size)\n",
    "\n",
    "    encoder = EncoderRNN(hidden_size, embedding, encoder_n_layers, dropout)\n",
    "    decoder = DecoderRNN(attn_model[idx], embedding, hidden_size, voc.num_words, decoder_n_layers, dropout)\n",
    "    idx +=1\n",
    "    # Use appropriate device\n",
    "    encoder = encoder.to(device)\n",
    "    decoder = decoder.to(device)\n",
    "\n",
    "    # Ensure dropout layers are in train mode\n",
    "    encoder.train()\n",
    "    decoder.train()\n",
    "\n",
    "    # Initialize optimizers\n",
    "    print('Building optimizers ...')\n",
    "    encoder_optimizer = optim.Adam(encoder.parameters(), lr=learning_rate)\n",
    "    decoder_optimizer = optim.Adam(decoder.parameters(), lr=learning_rate * decoder_learning_ratio)\n",
    "\n",
    "    # If you have cuda, configure cuda to call\n",
    "    for state in encoder_optimizer.state.values():\n",
    "        for k, v in state.items():\n",
    "            if isinstance(v, torch.Tensor):\n",
    "                state[k] = v.cuda()\n",
    "\n",
    "    for state in decoder_optimizer.state.values():\n",
    "        for k, v in state.items():\n",
    "            if isinstance(v, torch.Tensor):\n",
    "                state[k] = v.cuda()\n",
    "\n",
    "    # Run training iterations\n",
    "    print(\"Started Training ...\")\n",
    "    trainIters(model_name, voc, train_pairs, validation_pairs, encoder, decoder, encoder_optimizer, decoder_optimizer,\n",
    "            embedding, encoder_n_layers, decoder_n_layers, hidden_size, save_dir, n_iteration, batch_size,\n",
    "            validate_every, clip, corpus_name, teacher_forcing_ratio)\n",
    "\n"
   ]
  },
  {
   "attachments": {},
   "cell_type": "markdown",
   "metadata": {},
   "source": [
    "### 8. Model Evaluation"
   ]
  },
  {
   "attachments": {},
   "cell_type": "markdown",
   "metadata": {},
   "source": [
    "Evaluate on text\n",
    "\n",
    "Now that we have our decoding method defined, we can write functions for evaluating a string input sentence. The evaluate function manages the low-level process of handling the input sentence. We first format the sentence as an input batch of word indexes with batch_size==1. We do this by converting the words of the sentence to their corresponding indexes, and transposing the dimensions to prepare the tensor for our models. We also create a lengths tensor which contains the length of our input sentence. In this case, lengths is scalar because we are only evaluating one sentence at a time (batch_size==1). Next, we obtain the decoded response sentence tensor using our GreedySearchDecoder object (searcher). Finally, we convert the response’s indexes to words and return the list of decoded words.\n",
    "\n",
    "evaluateInput acts as the user interface for our chatbot. When called, an input text field will spawn in which we can enter our query sentence. After typing our input sentence and pressing Enter, our text is normalized in the same way as our training data, and is ultimately fed to the evaluate function to obtain a decoded output sentence. We loop this process, so we can keep chatting with our bot until we enter either “q” or “quit”.\n",
    "\n",
    "Finally, if a sentence is entered that contains a word that is not in the vocabulary, we handle this gracefully by printing an error message and prompting the user to enter another sentence."
   ]
  },
  {
   "cell_type": "code",
   "execution_count": 35,
   "metadata": {},
   "outputs": [],
   "source": [
    "def evaluate(encoder, decoder, searcher, voc, sentence, max_length=MAX_LENGTH):\n",
    "    ### Format input sentence as a batch\n",
    "    # words -> indexes\n",
    "    indexes_batch = [indexesFromSentence(voc, sentence)]\n",
    "    # Create lengths tensor\n",
    "    lengths = torch.tensor([len(indexes) for indexes in indexes_batch])\n",
    "    # Transpose dimensions of batch to match models' expectations\n",
    "    input_batch = torch.LongTensor(indexes_batch).transpose(0, 1)\n",
    "    # Use appropriate device\n",
    "    input_batch = input_batch.to(\"cpu\")\n",
    "    lengths = lengths.to(\"cpu\")\n",
    "    # Decode sentence with searcher\n",
    "    tokens, scores = searcher(input_batch, lengths, max_length)\n",
    "    # indexes -> words\n",
    "    decoded_words = [voc.index2word[token.item()] for token in tokens]\n",
    "    return decoded_words"
   ]
  },
  {
   "cell_type": "code",
   "execution_count": 36,
   "metadata": {},
   "outputs": [],
   "source": [
    "def evaluateModel(encoder, decoder, searcher, voc):\n",
    "    score = 0\n",
    "    for pair in test_pairs:\n",
    "        # Get input sentence\n",
    "        input_sentence = pair[0]\n",
    "        # Evaluate sentence\n",
    "        candidate = evaluate(encoder, decoder, searcher, voc, input_sentence)\n",
    "        # Format and print response sentence\n",
    "        candidate[:] = [x for x in candidate if not (x == 'EOS' or x == 'PAD')]\n",
    "        reference = [pair[1].split(' ')]\n",
    "        score += sentence_bleu(reference, candidate)\n",
    "        return score / len(test_pairs)\n"
   ]
  },
  {
   "attachments": {},
   "cell_type": "markdown",
   "metadata": {},
   "source": [
    "Once, the training is finished, we can now load the saved model and run evaluation."
   ]
  },
  {
   "cell_type": "code",
   "execution_count": 37,
   "metadata": {},
   "outputs": [],
   "source": [
    "# Set checkpoint to load from; set to None if starting from scratch\n",
    "loadFilename = True\n",
    "checkpoint_iter = 5000 # get the last checkpoint\n",
    "loadFilename = os.path.join(save_dir, model_names[0], corpus_name,\n",
    "                            '{}-{}_{}'.format(encoder_n_layers, decoder_n_layers, hidden_size),\n",
    "                            '{}_checkpoint.tar'.format(checkpoint_iter))\n",
    "\n",
    "# Load model if a loadFilename is provided\n",
    "if loadFilename:\n",
    "    # If loading on same machine the model was trained on\n",
    "    checkpoint = torch.load(loadFilename)\n",
    "    # If loading a model trained on GPU to CPU\n",
    "    checkpoint = torch.load(loadFilename, map_location=torch.device('cpu'))\n",
    "    encoder_sd = checkpoint['en']\n",
    "    decoder_sd = checkpoint['de']\n",
    "    encoder_optimizer_sd = checkpoint['en_opt']\n",
    "    decoder_optimizer_sd = checkpoint['de_opt']\n",
    "    embedding_sd = checkpoint['embedding']\n",
    "    voc.__dict__ = checkpoint['voc_dict']\n",
    "\n",
    "if loadFilename:\n",
    "    embedding.load_state_dict(embedding_sd)\n",
    "\n",
    "if loadFilename:\n",
    "    encoder.load_state_dict(encoder_sd)\n",
    "    decoder.load_state_dict(decoder_sd)\n"
   ]
  },
  {
   "cell_type": "code",
   "execution_count": 38,
   "metadata": {},
   "outputs": [
    {
     "name": "stdout",
     "output_type": "stream",
     "text": [
      "Average BLEU score:  0.0\n"
     ]
    }
   ],
   "source": [
    "# Set dropout layers to eval mode\n",
    "encoder = encoder.to(\"cpu\")\n",
    "decoder = decoder.to(\"cpu\")\n",
    "encoder.eval()\n",
    "decoder.eval()\n",
    "\n",
    "# Initialize search module\n",
    "searcher = GreedySearchDecoder(encoder, decoder)\n",
    "\n",
    "# Begin chatting (uncomment and run the following line to begin)\n",
    "bleu_score = evaluateModel(encoder, decoder, searcher, voc)\n",
    "print(\"Average BLEU score: \", bleu_score)\n"
   ]
  }
 ],
 "metadata": {
  "kernelspec": {
   "display_name": "Python 3.8.13 ('py38_default')",
   "language": "python",
   "name": "python3"
  },
  "language_info": {
   "codemirror_mode": {
    "name": "ipython",
    "version": 3
   },
   "file_extension": ".py",
   "mimetype": "text/x-python",
   "name": "python",
   "nbconvert_exporter": "python",
   "pygments_lexer": "ipython3",
   "version": "3.8.13"
  },
  "orig_nbformat": 4,
  "vscode": {
   "interpreter": {
    "hash": "0b89d13efa15026bec8ac80f9cabf9db8b4aa027bf15218d19e9326d2a712ef0"
   }
  }
 },
 "nbformat": 4,
 "nbformat_minor": 2
}
